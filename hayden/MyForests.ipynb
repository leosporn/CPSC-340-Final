{
 "cells": [
  {
   "cell_type": "code",
   "execution_count": 1,
   "metadata": {},
   "outputs": [],
   "source": [
    "# License: BSD\n",
    "# Author: Sasank Chilamkurthy\n",
    "\n",
    "from __future__ import print_function, division\n",
    "\n",
    "import torch\n",
    "import torch.nn as nn\n",
    "import torch.optim as optim\n",
    "from torch.optim import lr_scheduler\n",
    "import numpy as np\n",
    "import torchvision\n",
    "from torchvision import datasets, models, transforms\n",
    "from torch.utils.data import Dataset, DataLoader\n",
    "import matplotlib.pyplot as plt\n",
    "import time\n",
    "import os\n",
    "import copy\n",
    "import pandas as pd\n",
    "\n",
    "plt.ion()   # interactive mode"
   ]
  },
  {
   "cell_type": "code",
   "execution_count": 2,
   "metadata": {},
   "outputs": [],
   "source": [
    "import pickle"
   ]
  },
  {
   "cell_type": "code",
   "execution_count": 3,
   "metadata": {},
   "outputs": [],
   "source": [
    "train_imgs = pickle.load(open(\"train_images_512.pk\",'rb'), encoding='bytes')\n",
    "train_labels = pickle.load(open(\"train_labels_512.pk\",'rb'), encoding='bytes')\n",
    "test_imgs = pickle.load(open(\"test_images_512.pk\",'rb'), encoding='bytes')"
   ]
  },
  {
   "cell_type": "code",
   "execution_count": 4,
   "metadata": {},
   "outputs": [
    {
     "name": "stdout",
     "output_type": "stream",
     "text": [
      "(70, 262144)\n"
     ]
    }
   ],
   "source": [
    "np.array(train_imgs).shape\n",
    "\n",
    "X_messy = np.array(train_imgs)\n",
    "X = np.zeros((70,512*512))\n",
    "for i in range(70):\n",
    "    for j in range(512):\n",
    "        for k in range(512):\n",
    "            X[i,j*512+k] = X_messy[i,1,j,k]\n",
    "print(X.shape)\n",
    "        \n",
    "y = np.array(train_labels)"
   ]
  },
  {
   "cell_type": "code",
   "execution_count": 23,
   "metadata": {},
   "outputs": [
    {
     "name": "stdout",
     "output_type": "stream",
     "text": [
      "[[-0.99996924 -0.99996924 -0.99996924 ... -0.99996924 -0.99996924\n",
      "  -0.99996924]\n",
      " [-0.99310267 -0.99310267 -0.99305654 ... -0.99467129 -0.99469435\n",
      "  -0.99471742]\n",
      " [-0.99738562 -0.99738562 -0.99738562 ... -0.99415612 -0.99427915\n",
      "  -0.99437141]\n",
      " ...\n",
      " [-0.99801612 -0.99801612 -0.99801612 ... -0.99628603 -0.99635524\n",
      "  -0.9964475 ]\n",
      " [-0.9928335  -0.9928335  -0.9928335  ... -0.99566323 -0.99569398\n",
      "  -0.99572474]\n",
      " [-0.99523258 -0.9992618  -0.99932331 ... -0.99932331 -0.99932331\n",
      "  -0.99861592]]\n"
     ]
    }
   ],
   "source": [
    "toShuffle = np.concatenate((X,y[:,np.newaxis]), axis=1)\n",
    "np.random.shuffle(toShuffle)\n",
    "shuffled_y = toShuffle[:,-1] \n",
    "shuffled_X = toShuffle[:, :-1]\n",
    "print(shuffled_X)"
   ]
  },
  {
   "cell_type": "code",
   "execution_count": 31,
   "metadata": {},
   "outputs": [
    {
     "name": "stderr",
     "output_type": "stream",
     "text": [
      "C:\\Users\\Hayde\\Anaconda3\\lib\\site-packages\\sklearn\\ensemble\\forest.py:245: FutureWarning: The default value of n_estimators will change from 10 in version 0.20 to 100 in 0.22.\n",
      "  \"10 in version 0.20 to 100 in 0.22.\", FutureWarning)\n"
     ]
    },
    {
     "name": "stdout",
     "output_type": "stream",
     "text": [
      "MaxDepth: 1, errorrate = 0.22857142857142856, f1 = 0.864406779661017, p = 0.9272727272727272, r = 0.8095238095238095\n"
     ]
    },
    {
     "name": "stderr",
     "output_type": "stream",
     "text": [
      "C:\\Users\\Hayde\\Anaconda3\\lib\\site-packages\\sklearn\\ensemble\\forest.py:245: FutureWarning: The default value of n_estimators will change from 10 in version 0.20 to 100 in 0.22.\n",
      "  \"10 in version 0.20 to 100 in 0.22.\", FutureWarning)\n"
     ]
    },
    {
     "name": "stdout",
     "output_type": "stream",
     "text": [
      "MaxDepth: 2, errorrate = 0.21428571428571427, f1 = 0.8672566371681416, p = 0.8909090909090909, r = 0.8448275862068966\n"
     ]
    },
    {
     "name": "stderr",
     "output_type": "stream",
     "text": [
      "C:\\Users\\Hayde\\Anaconda3\\lib\\site-packages\\sklearn\\ensemble\\forest.py:245: FutureWarning: The default value of n_estimators will change from 10 in version 0.20 to 100 in 0.22.\n",
      "  \"10 in version 0.20 to 100 in 0.22.\", FutureWarning)\n"
     ]
    },
    {
     "name": "stdout",
     "output_type": "stream",
     "text": [
      "MaxDepth: 3, errorrate = 0.18571428571428572, f1 = 0.8807339449541284, p = 0.8727272727272727, r = 0.8888888888888888\n"
     ]
    },
    {
     "name": "stderr",
     "output_type": "stream",
     "text": [
      "C:\\Users\\Hayde\\Anaconda3\\lib\\site-packages\\sklearn\\ensemble\\forest.py:245: FutureWarning: The default value of n_estimators will change from 10 in version 0.20 to 100 in 0.22.\n",
      "  \"10 in version 0.20 to 100 in 0.22.\", FutureWarning)\n"
     ]
    },
    {
     "name": "stdout",
     "output_type": "stream",
     "text": [
      "MaxDepth: 4, errorrate = 0.21428571428571427, f1 = 0.8598130841121494, p = 0.8363636363636363, r = 0.8846153846153846\n"
     ]
    }
   ],
   "source": [
    "from sklearn.ensemble import RandomForestClassifier\n",
    "\n",
    "X = shuffled_X\n",
    "y = shuffled_y\n",
    "\n",
    "a = np.arange(70)\n",
    "for maxDepth in range(1, 5):\n",
    "    tp = 0\n",
    "    fn = 0\n",
    "    fp = 0\n",
    "    clf = convolutionForests(maxDepth = maxDepth)\n",
    "    #clf = RandomForestClassifier(max_depth = maxDepth, random_state=0)\n",
    "    for holdout in range(70):\n",
    "        clf.fit(X[a%70 != holdout, :], y[a%70 != holdout])\n",
    "        pred = clf.predict(X[np.newaxis, holdout, :])\n",
    "        #print(str(pred[0]) + \",\"+str(y[holdout]))\n",
    "        if (pred[0] == 1 and y[holdout] == 1):\n",
    "            tp += 1 \n",
    "        else:\n",
    "            if((pred[0] == 1) and (y[holdout] == 0)):\n",
    "                fp += 1\n",
    "            else:\n",
    "                if((pred[0] == 0) and (y[holdout] == 1)):\n",
    "                    fn += 1\n",
    "    p = tp/(tp+fn)\n",
    "    r = tp/(tp+fp)\n",
    "    f1 = 2*p*r/(p+r)\n",
    "    print(\"MaxDepth: \"+ str(maxDepth) + \", errorrate = \"+ str((fp+fn)/70) + \", f1 = \" + str(f1) + \", p = \" + str(p) + \", r = \" + str(r))"
   ]
  },
  {
   "cell_type": "code",
   "execution_count": 29,
   "metadata": {},
   "outputs": [],
   "source": [
    "from sklearn.ensemble import RandomForestClassifier\n",
    "\n",
    "class convolutionForests:\n",
    "    \n",
    "    def __init__(self, maxDepth = 3):\n",
    "        self.model = RandomForestClassifier(max_depth = maxDepth, random_state=0)\n",
    "    def fit(self,X,y):\n",
    "        self.convolve(X,y)\n",
    "        self.model.fit(X,y)\n",
    "    \n",
    "    def convolve(self,X,y):\n",
    "        #shifts:\n",
    "        for shift in np.arange(1,4):\n",
    "            Xshifted = np.zeros(X.shape)\n",
    "            for row in range(X.shape[0]):\n",
    "                Xshifted[row, shift:X.shape[1]] = X[row, 0:-1*shift]\n",
    "            X = np.concatenate((Xshifted, X), axis = 0)\n",
    "            y = np.concatenate((y,y), axis=0)\n",
    "        #print(y)\n",
    "    def predict(self, Xtest):\n",
    "        return self.model.predict(Xtest)\n",
    "        "
   ]
  },
  {
   "cell_type": "code",
   "execution_count": null,
   "metadata": {},
   "outputs": [],
   "source": []
  }
 ],
 "metadata": {
  "kernelspec": {
   "display_name": "Python 3",
   "language": "python",
   "name": "python3"
  },
  "language_info": {
   "codemirror_mode": {
    "name": "ipython",
    "version": 3
   },
   "file_extension": ".py",
   "mimetype": "text/x-python",
   "name": "python",
   "nbconvert_exporter": "python",
   "pygments_lexer": "ipython3",
   "version": "3.7.4"
  }
 },
 "nbformat": 4,
 "nbformat_minor": 2
}
