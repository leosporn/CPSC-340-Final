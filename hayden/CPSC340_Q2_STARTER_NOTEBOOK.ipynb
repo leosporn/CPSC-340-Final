{
 "cells": [
  {
   "cell_type": "code",
   "execution_count": 1,
   "metadata": {},
   "outputs": [],
   "source": [
    "%matplotlib inline"
   ]
  },
  {
   "cell_type": "code",
   "execution_count": 1,
   "metadata": {},
   "outputs": [],
   "source": [
    "# License: BSD\n",
    "# Author: Sasank Chilamkurthy\n",
    "\n",
    "from __future__ import print_function, division\n",
    "\n",
    "import torch\n",
    "import torch.nn as nn\n",
    "import torch.optim as optim\n",
    "from torch.optim import lr_scheduler\n",
    "import numpy as np\n",
    "import torchvision\n",
    "from torchvision import datasets, models, transforms\n",
    "from torch.utils.data import Dataset, DataLoader\n",
    "import matplotlib.pyplot as plt\n",
    "import time\n",
    "import os\n",
    "import copy\n",
    "import pandas as pd\n",
    "\n",
    "plt.ion()   # interactive mode"
   ]
  },
  {
   "cell_type": "code",
   "execution_count": 2,
   "metadata": {},
   "outputs": [],
   "source": [
    "import pickle"
   ]
  },
  {
   "cell_type": "code",
   "execution_count": 3,
   "metadata": {},
   "outputs": [],
   "source": [
    "train_imgs = pickle.load(open(\"train_images_512.pk\",'rb'), encoding='bytes')\n",
    "train_labels = pickle.load(open(\"train_labels_512.pk\",'rb'), encoding='bytes')\n",
    "test_imgs = pickle.load(open(\"test_images_512.pk\",'rb'), encoding='bytes')\n"
   ]
  },
  {
   "cell_type": "code",
   "execution_count": 8,
   "metadata": {},
   "outputs": [],
   "source": [
    "class CovidDatasetTrain(Dataset):\n",
    "    \"\"\"Face Landmarks dataset.\"\"\"\n",
    "\n",
    "    def __init__(self, imgs, labels):\n",
    "        self.imgs = imgs\n",
    "        self.labels = labels\n",
    "\n",
    "    def __len__(self):\n",
    "        return len(self.labels)\n",
    "\n",
    "    def __getitem__(self, idx):\n",
    "        return self.imgs[idx], self.labels[idx]\n",
    "\n",
    "class CovidDatasetTest(Dataset):\n",
    "    \"\"\"Face Landmarks dataset.\"\"\"\n",
    "\n",
    "    def __init__(self, imgs):\n",
    "        self.imgs = imgs\n",
    "\n",
    "    def __len__(self):\n",
    "        return self.imgs.shape[0]\n",
    "\n",
    "    def __getitem__(self, idx):\n",
    "        return self.imgs[idx]  "
   ]
  },
  {
   "cell_type": "code",
   "execution_count": 9,
   "metadata": {},
   "outputs": [],
   "source": [
    "def make_data_loaders():\n",
    "    train_dataset = CovidDatasetTrain(train_imgs, train_labels)\n",
    "    test_dataset = CovidDatasetTest(test_imgs)\n",
    "\n",
    "    return {\n",
    "        \"train\": DataLoader(train_dataset, batch_size=1, shuffle=True, num_workers=1),\n",
    "        \"test\": DataLoader(test_dataset, batch_size=1, shuffle=False, num_workers=1),\n",
    "    }\n",
    "    "
   ]
  },
  {
   "cell_type": "code",
   "execution_count": 10,
   "metadata": {},
   "outputs": [],
   "source": [
    "data_loaders = make_data_loaders()\n",
    "dataset_sizes = {'train': len(data_loaders['train'].dataset), \n",
    "                 'test':len(data_loaders['test'].dataset)}\n",
    "\n",
    "class_names = ['covid', 'background']\n",
    "device = torch.device(\"cuda:0\" if torch.cuda.is_available() else \"cpu\")"
   ]
  },
  {
   "cell_type": "code",
   "execution_count": 31,
   "metadata": {},
   "outputs": [
    {
     "name": "stdout",
     "output_type": "stream",
     "text": [
      "(70, 262144)\n"
     ]
    }
   ],
   "source": [
    "np.array(train_imgs).shape\n",
    "\n",
    "X_messy = np.array(train_imgs)\n",
    "X = np.zeros((70,512*512))\n",
    "for i in range(70):\n",
    "    for j in range(512):\n",
    "        for k in range(512):\n",
    "            X[i,j*512+k] = X_messy[i,1,j,k]\n",
    "print(X.shape)\n",
    "        \n",
    "y = np.array(train_labels)\n",
    "\n",
    "from sklearn.ensemble import RandomForestClassifier\n",
    "#clf = RandomForestClassifier(max_depth=4, random_state=0)\n",
    "#clf.fit(X, y)"
   ]
  },
  {
   "cell_type": "code",
   "execution_count": 28,
   "metadata": {},
   "outputs": [],
   "source": [
    "X_messy = np.array(test_imgs)\n",
    "Xtest = np.zeros((70,512*512))\n",
    "for i in range(20):\n",
    "    for j in range(512):\n",
    "        for k in range(512):\n",
    "            X[i,j*512+k] = X_messy[i,1,j,k]"
   ]
  },
  {
   "cell_type": "code",
   "execution_count": 30,
   "metadata": {},
   "outputs": [
    {
     "name": "stderr",
     "output_type": "stream",
     "text": [
      "C:\\Users\\Hayde\\Anaconda3\\lib\\site-packages\\sklearn\\ensemble\\forest.py:245: FutureWarning: The default value of n_estimators will change from 10 in version 0.20 to 100 in 0.22.\n",
      "  \"10 in version 0.20 to 100 in 0.22.\", FutureWarning)\n"
     ]
    },
    {
     "name": "stdout",
     "output_type": "stream",
     "text": [
      "[1 1 1 1 1 1 0 0 0 0 0 0 0 1 1 1 1 1 1 1 1 1 1 1 1 1 1 1 1 1 0 1 0 0 0 0 0\n",
      " 0 1 1 0 1 1 1 1 1 1 1 1 1 1 1 1 1 1 1 1 1 1 1 1 1 1 1 1 1 1 1 1 1]\n",
      "[1 1 1 1 1 1 0 0 0 0 0 0 0 1 1 1 1 1 1 1 1 1 1 1 1 1 1 1 1 1 0 0 0 0 0 0 0\n",
      " 0 1 1 1 1 1 1 1 1 1 1 1 1 1 1 1 1 1 1 1 1 1 1 1 1 1 1 1 1 1 1 1 1]\n"
     ]
    }
   ],
   "source": [
    "clf = RandomForestClassifier(max_depth=4, random_state=0)\n",
    "clf.fit(X, y)\n",
    "yhat = clf.predict(X)\n",
    "print(yhat)\n",
    "print(y)\n",
    "ytesthat = clf.predict"
   ]
  },
  {
   "cell_type": "code",
   "execution_count": 11,
   "metadata": {},
   "outputs": [
    {
     "name": "stdout",
     "output_type": "stream",
     "text": [
      "15\n"
     ]
    }
   ],
   "source": [
    "#for sample in data_loaders[\"train\"]:\n",
    "#    print(sample[0].shape)\n",
    "    \n",
    "#things I know\n",
    "#training: 15 covid, 55 not\n",
    "#things I don't - how load data in their template stuff?\n",
    "#print(train_imgs[35, :, 0,0])\n",
    "training = np.array(train_imgs)\n",
    "#print(train_imgs[:,:,:,:].var(axis = 1).sum())\n",
    "print(len(train_labels[train_labels==0]))"
   ]
  },
  {
   "cell_type": "code",
   "execution_count": 4,
   "metadata": {},
   "outputs": [
    {
     "ename": "NameError",
     "evalue": "name 'X' is not defined",
     "output_type": "error",
     "traceback": [
      "\u001b[1;31m---------------------------------------------------------------------------\u001b[0m",
      "\u001b[1;31mNameError\u001b[0m                                 Traceback (most recent call last)",
      "\u001b[1;32m<ipython-input-4-593a02456fab>\u001b[0m in \u001b[0;36m<module>\u001b[1;34m\u001b[0m\n\u001b[1;32m----> 1\u001b[1;33m \u001b[0mtoShuffle\u001b[0m \u001b[1;33m=\u001b[0m \u001b[0mnp\u001b[0m\u001b[1;33m.\u001b[0m\u001b[0mconcatenate\u001b[0m\u001b[1;33m(\u001b[0m\u001b[1;33m(\u001b[0m\u001b[0mX\u001b[0m\u001b[1;33m,\u001b[0m\u001b[0my\u001b[0m\u001b[1;33m[\u001b[0m\u001b[1;33m:\u001b[0m\u001b[1;33m,\u001b[0m\u001b[0mnp\u001b[0m\u001b[1;33m.\u001b[0m\u001b[0mnewaxis\u001b[0m\u001b[1;33m]\u001b[0m\u001b[1;33m)\u001b[0m\u001b[1;33m,\u001b[0m \u001b[0maxis\u001b[0m\u001b[1;33m=\u001b[0m\u001b[1;36m1\u001b[0m\u001b[1;33m)\u001b[0m\u001b[1;33m\u001b[0m\u001b[1;33m\u001b[0m\u001b[0m\n\u001b[0m\u001b[0;32m      2\u001b[0m \u001b[0mnp\u001b[0m\u001b[1;33m.\u001b[0m\u001b[0mrandom\u001b[0m\u001b[1;33m.\u001b[0m\u001b[0mshuffle\u001b[0m\u001b[1;33m(\u001b[0m\u001b[0mtoShuffle\u001b[0m\u001b[1;33m)\u001b[0m\u001b[1;33m\u001b[0m\u001b[1;33m\u001b[0m\u001b[0m\n\u001b[0;32m      3\u001b[0m \u001b[0mshuffled_y\u001b[0m \u001b[1;33m=\u001b[0m \u001b[0mtoShuffle\u001b[0m\u001b[1;33m[\u001b[0m\u001b[1;33m:\u001b[0m\u001b[1;33m,\u001b[0m\u001b[1;33m-\u001b[0m\u001b[1;36m1\u001b[0m\u001b[1;33m]\u001b[0m\u001b[1;33m\u001b[0m\u001b[1;33m\u001b[0m\u001b[0m\n\u001b[0;32m      4\u001b[0m \u001b[0mshuffled_X\u001b[0m \u001b[1;33m=\u001b[0m \u001b[0mtoShuffle\u001b[0m\u001b[1;33m[\u001b[0m\u001b[1;33m:\u001b[0m\u001b[1;33m,\u001b[0m \u001b[1;33m:\u001b[0m\u001b[1;33m-\u001b[0m\u001b[1;36m1\u001b[0m\u001b[1;33m]\u001b[0m\u001b[1;33m\u001b[0m\u001b[1;33m\u001b[0m\u001b[0m\n",
      "\u001b[1;31mNameError\u001b[0m: name 'X' is not defined"
     ]
    }
   ],
   "source": [
    "toShuffle = np.concatenate((X,y[:,np.newaxis]), axis=1)\n",
    "np.random.shuffle(toShuffle)\n",
    "shuffled_y = toShuffle[:,-1] \n",
    "shuffled_X = toShuffle[:, :-1]"
   ]
  },
  {
   "cell_type": "code",
   "execution_count": 65,
   "metadata": {},
   "outputs": [
    {
     "name": "stderr",
     "output_type": "stream",
     "text": [
      "C:\\Users\\Hayde\\Anaconda3\\lib\\site-packages\\sklearn\\ensemble\\forest.py:245: FutureWarning: The default value of n_estimators will change from 10 in version 0.20 to 100 in 0.22.\n",
      "  \"10 in version 0.20 to 100 in 0.22.\", FutureWarning)\n"
     ]
    },
    {
     "name": "stdout",
     "output_type": "stream",
     "text": [
      "1,1\n",
      "tp\n",
      "1,1\n",
      "tp\n",
      "1,1\n",
      "tp\n",
      "1,1\n",
      "tp\n",
      "1,1\n",
      "tp\n",
      "1,1\n",
      "tp\n",
      "0,0\n",
      "0,0\n",
      "1,0\n",
      "fp\n",
      "1,0\n",
      "fp\n",
      "0,0\n",
      "1,0\n",
      "fp\n",
      "0,0\n",
      "1,1\n",
      "tp\n",
      "1,1\n",
      "tp\n",
      "1,1\n",
      "tp\n",
      "1,1\n",
      "tp\n",
      "1,1\n",
      "tp\n",
      "1,1\n",
      "tp\n",
      "1,1\n",
      "tp\n",
      "1,1\n",
      "tp\n",
      "1,1\n",
      "tp\n",
      "1,1\n",
      "tp\n",
      "1,1\n",
      "tp\n",
      "1,1\n",
      "tp\n",
      "1,1\n",
      "tp\n",
      "1,1\n",
      "tp\n",
      "1,1\n",
      "tp\n",
      "1,1\n",
      "tp\n",
      "0,1\n",
      "fn\n",
      "1,0\n",
      "fp\n",
      "1,0\n",
      "fp\n",
      "0,0\n",
      "0,0\n",
      "0,0\n",
      "1,0\n",
      "fp\n",
      "1,0\n",
      "fp\n",
      "1,0\n",
      "fp\n",
      "1,1\n",
      "tp\n",
      "1,1\n",
      "tp\n",
      "0,1\n",
      "fn\n",
      "1,1\n",
      "tp\n",
      "1,1\n",
      "tp\n",
      "0,1\n",
      "fn\n",
      "1,1\n",
      "tp\n",
      "0,1\n",
      "fn\n",
      "1,1\n",
      "tp\n",
      "0,1\n",
      "fn\n",
      "1,1\n",
      "tp\n",
      "1,1\n",
      "tp\n",
      "1,1\n",
      "tp\n",
      "1,1\n",
      "tp\n",
      "1,1\n",
      "tp\n",
      "1,1\n",
      "tp\n",
      "1,1\n",
      "tp\n",
      "1,1\n",
      "tp\n",
      "1,1\n",
      "tp\n",
      "1,1\n",
      "tp\n",
      "1,1\n",
      "tp\n",
      "1,1\n",
      "tp\n",
      "1,1\n",
      "tp\n",
      "1,1\n",
      "tp\n",
      "1,1\n",
      "tp\n",
      "1,1\n",
      "tp\n",
      "1,1\n",
      "tp\n",
      "1,1\n",
      "tp\n",
      "1,1\n",
      "tp\n",
      "1,1\n",
      "tp\n",
      "1,1\n",
      "tp\n",
      "1,1\n",
      "tp\n",
      "0.18571428571428572\n"
     ]
    }
   ],
   "source": [
    "#cross validate?\n",
    "a = np.arange(70)\n",
    "#toShuffle = np.concatenate((X,y[:,np.newaxis]), axis=1)\n",
    "#np.random.shuffle(toShuffle)\n",
    "#shuffled_y = toShuffle[:,-1] \n",
    "#shuffled_X = toShuffle[:, 0:262143]\n",
    "#print(shuffled_y)\n",
    "#print(shuffled_X[:,-1])\n",
    "#y\n",
    "#np.random.shuffle(X) would mess with the labels...\n",
    "tp = 0\n",
    "fn = 0\n",
    "fp = 0\n",
    "clf = RandomForestClassifier(max_depth = 2, random_state=0)\n",
    "for holdout in range(70):\n",
    "    clf.fit(X[a%70 != holdout, :], y[a%70 != holdout])\n",
    "    pred = clf.predict(X[np.newaxis, holdout, :])\n",
    "    print(str(pred[0]) + \",\"+str(y[holdout]))\n",
    "    if (pred[0] == 1 & y[holdout] == 1):\n",
    "        tp += 1 \n",
    "        print(\"tp\")\n",
    "    else:\n",
    "        if((pred[0] == 1) & (y[holdout] == 0)):\n",
    "            fp += 1\n",
    "            print(\"fp\")\n",
    "        else:\n",
    "            if((pred[0] == 0) & (y[holdout] == 1)):\n",
    "                fn += 1\n",
    "                print(\"fn\")\n",
    "                \n",
    "print((fn+fp) / 70)"
   ]
  },
  {
   "cell_type": "code",
   "execution_count": 70,
   "metadata": {},
   "outputs": [
    {
     "name": "stderr",
     "output_type": "stream",
     "text": [
      "C:\\Users\\Hayde\\Anaconda3\\lib\\site-packages\\sklearn\\ensemble\\forest.py:245: FutureWarning: The default value of n_estimators will change from 10 in version 0.20 to 100 in 0.22.\n",
      "  \"10 in version 0.20 to 100 in 0.22.\", FutureWarning)\n"
     ]
    },
    {
     "name": "stdout",
     "output_type": "stream",
     "text": [
      "MaxDepth: 1, errorrate = 0.2, f1 = 0.8793103448275862, p = 0.9272727272727272, r = 0.8360655737704918\n"
     ]
    },
    {
     "name": "stderr",
     "output_type": "stream",
     "text": [
      "C:\\Users\\Hayde\\Anaconda3\\lib\\site-packages\\sklearn\\ensemble\\forest.py:245: FutureWarning: The default value of n_estimators will change from 10 in version 0.20 to 100 in 0.22.\n",
      "  \"10 in version 0.20 to 100 in 0.22.\", FutureWarning)\n"
     ]
    },
    {
     "name": "stdout",
     "output_type": "stream",
     "text": [
      "MaxDepth: 2, errorrate = 0.18571428571428572, f1 = 0.8849557522123893, p = 0.9090909090909091, r = 0.8620689655172413\n"
     ]
    },
    {
     "name": "stderr",
     "output_type": "stream",
     "text": [
      "C:\\Users\\Hayde\\Anaconda3\\lib\\site-packages\\sklearn\\ensemble\\forest.py:245: FutureWarning: The default value of n_estimators will change from 10 in version 0.20 to 100 in 0.22.\n",
      "  \"10 in version 0.20 to 100 in 0.22.\", FutureWarning)\n"
     ]
    },
    {
     "name": "stdout",
     "output_type": "stream",
     "text": [
      "MaxDepth: 3, errorrate = 0.17142857142857143, f1 = 0.8928571428571428, p = 0.9090909090909091, r = 0.8771929824561403\n"
     ]
    },
    {
     "name": "stderr",
     "output_type": "stream",
     "text": [
      "C:\\Users\\Hayde\\Anaconda3\\lib\\site-packages\\sklearn\\ensemble\\forest.py:245: FutureWarning: The default value of n_estimators will change from 10 in version 0.20 to 100 in 0.22.\n",
      "  \"10 in version 0.20 to 100 in 0.22.\", FutureWarning)\n"
     ]
    },
    {
     "name": "stdout",
     "output_type": "stream",
     "text": [
      "MaxDepth: 4, errorrate = 0.2, f1 = 0.8727272727272727, p = 0.8727272727272727, r = 0.8727272727272727\n"
     ]
    },
    {
     "name": "stderr",
     "output_type": "stream",
     "text": [
      "C:\\Users\\Hayde\\Anaconda3\\lib\\site-packages\\sklearn\\ensemble\\forest.py:245: FutureWarning: The default value of n_estimators will change from 10 in version 0.20 to 100 in 0.22.\n",
      "  \"10 in version 0.20 to 100 in 0.22.\", FutureWarning)\n"
     ]
    },
    {
     "name": "stdout",
     "output_type": "stream",
     "text": [
      "MaxDepth: 5, errorrate = 0.2, f1 = 0.8727272727272727, p = 0.8727272727272727, r = 0.8727272727272727\n"
     ]
    },
    {
     "name": "stderr",
     "output_type": "stream",
     "text": [
      "C:\\Users\\Hayde\\Anaconda3\\lib\\site-packages\\sklearn\\ensemble\\forest.py:245: FutureWarning: The default value of n_estimators will change from 10 in version 0.20 to 100 in 0.22.\n",
      "  \"10 in version 0.20 to 100 in 0.22.\", FutureWarning)\n"
     ]
    },
    {
     "name": "stdout",
     "output_type": "stream",
     "text": [
      "MaxDepth: 6, errorrate = 0.2, f1 = 0.8727272727272727, p = 0.8727272727272727, r = 0.8727272727272727\n"
     ]
    },
    {
     "name": "stderr",
     "output_type": "stream",
     "text": [
      "C:\\Users\\Hayde\\Anaconda3\\lib\\site-packages\\sklearn\\ensemble\\forest.py:245: FutureWarning: The default value of n_estimators will change from 10 in version 0.20 to 100 in 0.22.\n",
      "  \"10 in version 0.20 to 100 in 0.22.\", FutureWarning)\n"
     ]
    },
    {
     "name": "stdout",
     "output_type": "stream",
     "text": [
      "MaxDepth: 7, errorrate = 0.2, f1 = 0.8727272727272727, p = 0.8727272727272727, r = 0.8727272727272727\n"
     ]
    },
    {
     "name": "stderr",
     "output_type": "stream",
     "text": [
      "C:\\Users\\Hayde\\Anaconda3\\lib\\site-packages\\sklearn\\ensemble\\forest.py:245: FutureWarning: The default value of n_estimators will change from 10 in version 0.20 to 100 in 0.22.\n",
      "  \"10 in version 0.20 to 100 in 0.22.\", FutureWarning)\n"
     ]
    },
    {
     "name": "stdout",
     "output_type": "stream",
     "text": [
      "MaxDepth: 8, errorrate = 0.2, f1 = 0.8727272727272727, p = 0.8727272727272727, r = 0.8727272727272727\n"
     ]
    },
    {
     "name": "stderr",
     "output_type": "stream",
     "text": [
      "C:\\Users\\Hayde\\Anaconda3\\lib\\site-packages\\sklearn\\ensemble\\forest.py:245: FutureWarning: The default value of n_estimators will change from 10 in version 0.20 to 100 in 0.22.\n",
      "  \"10 in version 0.20 to 100 in 0.22.\", FutureWarning)\n"
     ]
    },
    {
     "name": "stdout",
     "output_type": "stream",
     "text": [
      "MaxDepth: 9, errorrate = 0.2, f1 = 0.8727272727272727, p = 0.8727272727272727, r = 0.8727272727272727\n"
     ]
    }
   ],
   "source": [
    "#toShuffle = np.concatenate((X,y[:,np.newaxis]), axis=1)\n",
    "#np.random.shuffle(toShuffle)\n",
    "#shuffled_y = toShuffle[:,-1] \n",
    "#shuffled_X = toShuffle[:, 0:262143]\n",
    "\n",
    "a = np.arange(70)\n",
    "for maxDepth in range(1, 10):\n",
    "    tp = 0\n",
    "    fn = 0\n",
    "    fp = 0\n",
    "    clf = RandomForestClassifier(max_depth = maxDepth, random_state=0)\n",
    "    for holdout in range(70):\n",
    "        #Xtraining = X[a%70 != holdout, :]\n",
    "        #ytraining = y[a%70 != holdout, :]\n",
    "        #Xvalidating = X[np.newaxis, holdout, :]\n",
    "        clf.fit(X[a%70 != holdout, :], y[a%70 != holdout])\n",
    "        pred = clf.predict(X[np.newaxis, holdout, :])\n",
    "        #print(str(pred[0]) + \",\"+str(y[holdout]))\n",
    "        if (pred[0] == 1 & y[holdout] == 1):\n",
    "            tp += 1 \n",
    "            #print(\"tp\")\n",
    "        else:\n",
    "            if((pred[0] == 1) & (y[holdout] == 0)):\n",
    "                fp += 1\n",
    "                #print(\"fp\")\n",
    "            else:\n",
    "                if((pred[0] == 0) & (y[holdout] == 1)):\n",
    "                    fn += 1\n",
    "                    #print(\"fn\")\n",
    "    p = tp/(tp+fn)\n",
    "    r = tp/(tp+fp)\n",
    "    f1 = 2*p*r/(p+r)\n",
    "    print(\"MaxDepth: \"+ str(maxDepth) + \", errorrate = \"+ str((fp+fn)/70) + \", f1 = \" + str(f1) + \", p = \" + str(p) + \", r = \" + str(r))\n",
    "    \n",
    "    \n",
    "#best maxdepth is 3, with these hyperparameters"
   ]
  },
  {
   "cell_type": "code",
   "execution_count": 66,
   "metadata": {},
   "outputs": [
    {
     "name": "stdout",
     "output_type": "stream",
     "text": [
      "50\n",
      "5\n",
      "8\n",
      "0.9090909090909091\n",
      "0.8620689655172413\n",
      "0.8849557522123893\n"
     ]
    }
   ],
   "source": [
    "print(tp)\n",
    "print(fn)\n",
    "print(fp)\n",
    "p = tp/(tp+fn)\n",
    "print(p)\n",
    "r = tp/(tp+fp)\n",
    "print(r)\n",
    "f1 = 2*p*r/(p+r)\n",
    "print(f1)"
   ]
  },
  {
   "cell_type": "code",
   "execution_count": 64,
   "metadata": {},
   "outputs": [
    {
     "data": {
      "text/plain": [
       "array([False, False,  True, False, False, False, False, False, False,\n",
       "       False, False, False, False, False, False, False, False, False,\n",
       "       False, False, False, False, False, False, False, False, False,\n",
       "       False, False, False, False, False, False, False, False, False,\n",
       "       False, False, False, False, False, False, False, False, False,\n",
       "       False, False, False, False, False, False, False, False, False,\n",
       "       False, False, False, False, False, False, False, False, False,\n",
       "       False, False, False, False, False, False, False])"
      ]
     },
     "execution_count": 64,
     "metadata": {},
     "output_type": "execute_result"
    }
   ],
   "source": [
    "a = np.arange(70)\n",
    "a\n",
    "a%70 == 2"
   ]
  },
  {
   "cell_type": "code",
   "execution_count": null,
   "metadata": {},
   "outputs": [],
   "source": [
    "#remember we need to evaluate cost"
   ]
  },
  {
   "cell_type": "code",
   "execution_count": 14,
   "metadata": {},
   "outputs": [
    {
     "ename": "RuntimeError",
     "evalue": "DataLoader worker (pid(s) 15976) exited unexpectedly",
     "output_type": "error",
     "traceback": [
      "\u001b[1;31m---------------------------------------------------------------------------\u001b[0m",
      "\u001b[1;31mEmpty\u001b[0m                                     Traceback (most recent call last)",
      "\u001b[1;32m~\\Anaconda3\\lib\\site-packages\\torch\\utils\\data\\dataloader.py\u001b[0m in \u001b[0;36m_try_get_data\u001b[1;34m(self, timeout)\u001b[0m\n\u001b[0;32m    760\u001b[0m         \u001b[1;32mtry\u001b[0m\u001b[1;33m:\u001b[0m\u001b[1;33m\u001b[0m\u001b[1;33m\u001b[0m\u001b[0m\n\u001b[1;32m--> 761\u001b[1;33m             \u001b[0mdata\u001b[0m \u001b[1;33m=\u001b[0m \u001b[0mself\u001b[0m\u001b[1;33m.\u001b[0m\u001b[0m_data_queue\u001b[0m\u001b[1;33m.\u001b[0m\u001b[0mget\u001b[0m\u001b[1;33m(\u001b[0m\u001b[0mtimeout\u001b[0m\u001b[1;33m=\u001b[0m\u001b[0mtimeout\u001b[0m\u001b[1;33m)\u001b[0m\u001b[1;33m\u001b[0m\u001b[1;33m\u001b[0m\u001b[0m\n\u001b[0m\u001b[0;32m    762\u001b[0m             \u001b[1;32mreturn\u001b[0m \u001b[1;33m(\u001b[0m\u001b[1;32mTrue\u001b[0m\u001b[1;33m,\u001b[0m \u001b[0mdata\u001b[0m\u001b[1;33m)\u001b[0m\u001b[1;33m\u001b[0m\u001b[1;33m\u001b[0m\u001b[0m\n",
      "\u001b[1;32m~\\Anaconda3\\lib\\multiprocessing\\queues.py\u001b[0m in \u001b[0;36mget\u001b[1;34m(self, block, timeout)\u001b[0m\n\u001b[0;32m    104\u001b[0m                     \u001b[1;32mif\u001b[0m \u001b[1;32mnot\u001b[0m \u001b[0mself\u001b[0m\u001b[1;33m.\u001b[0m\u001b[0m_poll\u001b[0m\u001b[1;33m(\u001b[0m\u001b[0mtimeout\u001b[0m\u001b[1;33m)\u001b[0m\u001b[1;33m:\u001b[0m\u001b[1;33m\u001b[0m\u001b[1;33m\u001b[0m\u001b[0m\n\u001b[1;32m--> 105\u001b[1;33m                         \u001b[1;32mraise\u001b[0m \u001b[0mEmpty\u001b[0m\u001b[1;33m\u001b[0m\u001b[1;33m\u001b[0m\u001b[0m\n\u001b[0m\u001b[0;32m    106\u001b[0m                 \u001b[1;32melif\u001b[0m \u001b[1;32mnot\u001b[0m \u001b[0mself\u001b[0m\u001b[1;33m.\u001b[0m\u001b[0m_poll\u001b[0m\u001b[1;33m(\u001b[0m\u001b[1;33m)\u001b[0m\u001b[1;33m:\u001b[0m\u001b[1;33m\u001b[0m\u001b[1;33m\u001b[0m\u001b[0m\n",
      "\u001b[1;31mEmpty\u001b[0m: ",
      "\nDuring handling of the above exception, another exception occurred:\n",
      "\u001b[1;31mRuntimeError\u001b[0m                              Traceback (most recent call last)",
      "\u001b[1;32m<ipython-input-14-aa989fc122f5>\u001b[0m in \u001b[0;36m<module>\u001b[1;34m\u001b[0m\n\u001b[0;32m      3\u001b[0m \u001b[1;33m\u001b[0m\u001b[0m\n\u001b[0;32m      4\u001b[0m \u001b[1;32mfor\u001b[0m \u001b[0mepoch\u001b[0m \u001b[1;32min\u001b[0m \u001b[0mrange\u001b[0m\u001b[1;33m(\u001b[0m\u001b[0mnum_epochs\u001b[0m\u001b[1;33m)\u001b[0m\u001b[1;33m:\u001b[0m\u001b[1;33m\u001b[0m\u001b[1;33m\u001b[0m\u001b[0m\n\u001b[1;32m----> 5\u001b[1;33m     \u001b[1;32mfor\u001b[0m \u001b[0msample\u001b[0m \u001b[1;32min\u001b[0m \u001b[0mdata_loaders\u001b[0m\u001b[1;33m[\u001b[0m\u001b[1;34m\"train\"\u001b[0m\u001b[1;33m]\u001b[0m\u001b[1;33m:\u001b[0m\u001b[1;33m\u001b[0m\u001b[1;33m\u001b[0m\u001b[0m\n\u001b[0m\u001b[0;32m      6\u001b[0m     \u001b[1;31m#    pass\u001b[0m\u001b[1;33m\u001b[0m\u001b[1;33m\u001b[0m\u001b[1;33m\u001b[0m\u001b[0m\n\u001b[0;32m      7\u001b[0m     \u001b[1;31m# Image shape\u001b[0m\u001b[1;33m\u001b[0m\u001b[1;33m\u001b[0m\u001b[1;33m\u001b[0m\u001b[0m\n",
      "\u001b[1;32m~\\Anaconda3\\lib\\site-packages\\torch\\utils\\data\\dataloader.py\u001b[0m in \u001b[0;36m__next__\u001b[1;34m(self)\u001b[0m\n\u001b[0;32m    343\u001b[0m \u001b[1;33m\u001b[0m\u001b[0m\n\u001b[0;32m    344\u001b[0m     \u001b[1;32mdef\u001b[0m \u001b[0m__next__\u001b[0m\u001b[1;33m(\u001b[0m\u001b[0mself\u001b[0m\u001b[1;33m)\u001b[0m\u001b[1;33m:\u001b[0m\u001b[1;33m\u001b[0m\u001b[1;33m\u001b[0m\u001b[0m\n\u001b[1;32m--> 345\u001b[1;33m         \u001b[0mdata\u001b[0m \u001b[1;33m=\u001b[0m \u001b[0mself\u001b[0m\u001b[1;33m.\u001b[0m\u001b[0m_next_data\u001b[0m\u001b[1;33m(\u001b[0m\u001b[1;33m)\u001b[0m\u001b[1;33m\u001b[0m\u001b[1;33m\u001b[0m\u001b[0m\n\u001b[0m\u001b[0;32m    346\u001b[0m         \u001b[0mself\u001b[0m\u001b[1;33m.\u001b[0m\u001b[0m_num_yielded\u001b[0m \u001b[1;33m+=\u001b[0m \u001b[1;36m1\u001b[0m\u001b[1;33m\u001b[0m\u001b[1;33m\u001b[0m\u001b[0m\n\u001b[0;32m    347\u001b[0m         \u001b[1;32mif\u001b[0m \u001b[0mself\u001b[0m\u001b[1;33m.\u001b[0m\u001b[0m_dataset_kind\u001b[0m \u001b[1;33m==\u001b[0m \u001b[0m_DatasetKind\u001b[0m\u001b[1;33m.\u001b[0m\u001b[0mIterable\u001b[0m \u001b[1;32mand\u001b[0m\u001b[0;31m \u001b[0m\u001b[0;31m\\\u001b[0m\u001b[1;33m\u001b[0m\u001b[1;33m\u001b[0m\u001b[0m\n",
      "\u001b[1;32m~\\Anaconda3\\lib\\site-packages\\torch\\utils\\data\\dataloader.py\u001b[0m in \u001b[0;36m_next_data\u001b[1;34m(self)\u001b[0m\n\u001b[0;32m    839\u001b[0m \u001b[1;33m\u001b[0m\u001b[0m\n\u001b[0;32m    840\u001b[0m             \u001b[1;32massert\u001b[0m \u001b[1;32mnot\u001b[0m \u001b[0mself\u001b[0m\u001b[1;33m.\u001b[0m\u001b[0m_shutdown\u001b[0m \u001b[1;32mand\u001b[0m \u001b[0mself\u001b[0m\u001b[1;33m.\u001b[0m\u001b[0m_tasks_outstanding\u001b[0m \u001b[1;33m>\u001b[0m \u001b[1;36m0\u001b[0m\u001b[1;33m\u001b[0m\u001b[1;33m\u001b[0m\u001b[0m\n\u001b[1;32m--> 841\u001b[1;33m             \u001b[0midx\u001b[0m\u001b[1;33m,\u001b[0m \u001b[0mdata\u001b[0m \u001b[1;33m=\u001b[0m \u001b[0mself\u001b[0m\u001b[1;33m.\u001b[0m\u001b[0m_get_data\u001b[0m\u001b[1;33m(\u001b[0m\u001b[1;33m)\u001b[0m\u001b[1;33m\u001b[0m\u001b[1;33m\u001b[0m\u001b[0m\n\u001b[0m\u001b[0;32m    842\u001b[0m             \u001b[0mself\u001b[0m\u001b[1;33m.\u001b[0m\u001b[0m_tasks_outstanding\u001b[0m \u001b[1;33m-=\u001b[0m \u001b[1;36m1\u001b[0m\u001b[1;33m\u001b[0m\u001b[1;33m\u001b[0m\u001b[0m\n\u001b[0;32m    843\u001b[0m \u001b[1;33m\u001b[0m\u001b[0m\n",
      "\u001b[1;32m~\\Anaconda3\\lib\\site-packages\\torch\\utils\\data\\dataloader.py\u001b[0m in \u001b[0;36m_get_data\u001b[1;34m(self)\u001b[0m\n\u001b[0;32m    806\u001b[0m         \u001b[1;32melse\u001b[0m\u001b[1;33m:\u001b[0m\u001b[1;33m\u001b[0m\u001b[1;33m\u001b[0m\u001b[0m\n\u001b[0;32m    807\u001b[0m             \u001b[1;32mwhile\u001b[0m \u001b[1;32mTrue\u001b[0m\u001b[1;33m:\u001b[0m\u001b[1;33m\u001b[0m\u001b[1;33m\u001b[0m\u001b[0m\n\u001b[1;32m--> 808\u001b[1;33m                 \u001b[0msuccess\u001b[0m\u001b[1;33m,\u001b[0m \u001b[0mdata\u001b[0m \u001b[1;33m=\u001b[0m \u001b[0mself\u001b[0m\u001b[1;33m.\u001b[0m\u001b[0m_try_get_data\u001b[0m\u001b[1;33m(\u001b[0m\u001b[1;33m)\u001b[0m\u001b[1;33m\u001b[0m\u001b[1;33m\u001b[0m\u001b[0m\n\u001b[0m\u001b[0;32m    809\u001b[0m                 \u001b[1;32mif\u001b[0m \u001b[0msuccess\u001b[0m\u001b[1;33m:\u001b[0m\u001b[1;33m\u001b[0m\u001b[1;33m\u001b[0m\u001b[0m\n\u001b[0;32m    810\u001b[0m                     \u001b[1;32mreturn\u001b[0m \u001b[0mdata\u001b[0m\u001b[1;33m\u001b[0m\u001b[1;33m\u001b[0m\u001b[0m\n",
      "\u001b[1;32m~\\Anaconda3\\lib\\site-packages\\torch\\utils\\data\\dataloader.py\u001b[0m in \u001b[0;36m_try_get_data\u001b[1;34m(self, timeout)\u001b[0m\n\u001b[0;32m    772\u001b[0m             \u001b[1;32mif\u001b[0m \u001b[0mlen\u001b[0m\u001b[1;33m(\u001b[0m\u001b[0mfailed_workers\u001b[0m\u001b[1;33m)\u001b[0m \u001b[1;33m>\u001b[0m \u001b[1;36m0\u001b[0m\u001b[1;33m:\u001b[0m\u001b[1;33m\u001b[0m\u001b[1;33m\u001b[0m\u001b[0m\n\u001b[0;32m    773\u001b[0m                 \u001b[0mpids_str\u001b[0m \u001b[1;33m=\u001b[0m \u001b[1;34m', '\u001b[0m\u001b[1;33m.\u001b[0m\u001b[0mjoin\u001b[0m\u001b[1;33m(\u001b[0m\u001b[0mstr\u001b[0m\u001b[1;33m(\u001b[0m\u001b[0mw\u001b[0m\u001b[1;33m.\u001b[0m\u001b[0mpid\u001b[0m\u001b[1;33m)\u001b[0m \u001b[1;32mfor\u001b[0m \u001b[0mw\u001b[0m \u001b[1;32min\u001b[0m \u001b[0mfailed_workers\u001b[0m\u001b[1;33m)\u001b[0m\u001b[1;33m\u001b[0m\u001b[1;33m\u001b[0m\u001b[0m\n\u001b[1;32m--> 774\u001b[1;33m                 \u001b[1;32mraise\u001b[0m \u001b[0mRuntimeError\u001b[0m\u001b[1;33m(\u001b[0m\u001b[1;34m'DataLoader worker (pid(s) {}) exited unexpectedly'\u001b[0m\u001b[1;33m.\u001b[0m\u001b[0mformat\u001b[0m\u001b[1;33m(\u001b[0m\u001b[0mpids_str\u001b[0m\u001b[1;33m)\u001b[0m\u001b[1;33m)\u001b[0m\u001b[1;33m\u001b[0m\u001b[1;33m\u001b[0m\u001b[0m\n\u001b[0m\u001b[0;32m    775\u001b[0m             \u001b[1;32mif\u001b[0m \u001b[0misinstance\u001b[0m\u001b[1;33m(\u001b[0m\u001b[0me\u001b[0m\u001b[1;33m,\u001b[0m \u001b[0mqueue\u001b[0m\u001b[1;33m.\u001b[0m\u001b[0mEmpty\u001b[0m\u001b[1;33m)\u001b[0m\u001b[1;33m:\u001b[0m\u001b[1;33m\u001b[0m\u001b[1;33m\u001b[0m\u001b[0m\n\u001b[0;32m    776\u001b[0m                 \u001b[1;32mreturn\u001b[0m \u001b[1;33m(\u001b[0m\u001b[1;32mFalse\u001b[0m\u001b[1;33m,\u001b[0m \u001b[1;32mNone\u001b[0m\u001b[1;33m)\u001b[0m\u001b[1;33m\u001b[0m\u001b[1;33m\u001b[0m\u001b[0m\n",
      "\u001b[1;31mRuntimeError\u001b[0m: DataLoader worker (pid(s) 15976) exited unexpectedly"
     ]
    }
   ],
   "source": [
    "# Training loop starter\n",
    "num_epochs = 1 # Set this yourself\n",
    "\n",
    "for epoch in range(num_epochs):\n",
    "    for sample in data_loaders[\"train\"]:\n",
    "    #    pass\n",
    "    # Image shape\n",
    "    # Batch size x Channels x Width x Height\n",
    "        print(sample[0].shape)\n",
    "    # Labels shape\n",
    "    # Batch size\n",
    "        print(sample[1].shape)"
   ]
  },
  {
   "cell_type": "code",
   "execution_count": 20,
   "metadata": {},
   "outputs": [],
   "source": [
    "import os\n",
    "import pickle\n",
    "\n",
    "from torchvision.utils import save_image\n",
    "\n",
    "TRAIN_IMAGES_FILENAME = 'train_images_512.pk'\n",
    "TRAIN_LABELS_FILENAME = 'train_labels_512.pk'\n",
    "TEST_IMAGES_FILENAME = 'test_images_512.pk'\n",
    "\n",
    "\n",
    "def load_data(adjust=True, save_images=False):\n",
    "    \"\"\"\n",
    "    Load training and test data.\n",
    "    Optionally re-scale data so it is between 0 and 1 (originally -1 and -0.9921).\n",
    "    Optionally save images for visualization.\n",
    "    :param adjust: Whether to re-scale data.\n",
    "    :param save_images: Whether to save images.\n",
    "    :return: train data, train labels, test data.\n",
    "    \"\"\"\n",
    "    def load_pk(filename):\n",
    "        with open(os.path.join(filename), 'rb') as f:\n",
    "            return pickle.load(f, encoding='bytes')\n",
    "\n",
    "    def adjust_window(imgs, shift=1, scale=127.5):\n",
    "        return (imgs + shift) * scale\n",
    "\n",
    "    train_imgs_ = load_pk(TRAIN_IMAGES_FILENAME)\n",
    "    train_labels_ = load_pk(TRAIN_LABELS_FILENAME)\n",
    "    test_imgs_ = load_pk(TEST_IMAGES_FILENAME)\n",
    "\n",
    "    if adjust:\n",
    "        train_imgs_ = adjust_window(train_imgs_)\n",
    "        test_imgs_ = adjust_window(test_imgs_)\n",
    "\n",
    "    if save_images:\n",
    "        if not os.path.exists(os.path.join('..', 'images')):\n",
    "            os.makedirs(os.path.join('..', 'images'))\n",
    "        #for i, (img, label) in enumerate(zip(train_imgs_, train_labels_)):\n",
    "        #    filename = os.path.join('..', 'images', 'yo.png')  #f'train_{i:02d}_{int(label):d}.png')\n",
    "        #    if not os.path.exists(filename):\n",
    "        #        save_image(img, filename)\n",
    "        for i, img in enumerate(test_imgs_):\n",
    "            filename = os.path.join('..', 'images', f'test_{i:02d}_{\"\":s}.png')\n",
    "            if not os.path.exists(filename):\n",
    "                save_image(img, filename)\n",
    "\n",
    "    return train_imgs_, train_labels_, test_imgs_\n",
    "\n",
    "\n",
    "if __name__ == '__main__':\n",
    "    train_imgs, train_labels, test_imgs = load_data()"
   ]
  },
  {
   "cell_type": "code",
   "execution_count": 21,
   "metadata": {},
   "outputs": [
    {
     "data": {
      "text/plain": [
       "(tensor([[[[1.0000, 0.9961, 0.8667,  ..., 0.2758, 0.2601, 0.2601],\n",
       "           [1.0000, 0.9961, 0.8771,  ..., 0.2758, 0.2601, 0.2601],\n",
       "           [1.0000, 0.9961, 0.8850,  ..., 0.2797, 0.2601, 0.2601],\n",
       "           ...,\n",
       "           [1.0000, 0.9882, 0.6784,  ..., 0.4078, 0.4039, 0.4000],\n",
       "           [0.9961, 0.9882, 0.6810,  ..., 0.4000, 0.4039, 0.4078],\n",
       "           [1.0000, 0.9882, 0.6784,  ..., 0.4078, 0.4118, 0.4196]],\n",
       " \n",
       "          [[1.0000, 0.9961, 0.8667,  ..., 0.2758, 0.2601, 0.2601],\n",
       "           [1.0000, 0.9961, 0.8771,  ..., 0.2758, 0.2601, 0.2601],\n",
       "           [1.0000, 0.9961, 0.8850,  ..., 0.2797, 0.2601, 0.2601],\n",
       "           ...,\n",
       "           [1.0000, 0.9882, 0.6784,  ..., 0.4078, 0.4039, 0.4000],\n",
       "           [0.9961, 0.9882, 0.6810,  ..., 0.4000, 0.4039, 0.4078],\n",
       "           [1.0000, 0.9882, 0.6784,  ..., 0.4078, 0.4118, 0.4196]],\n",
       " \n",
       "          [[1.0000, 0.9961, 0.8667,  ..., 0.2758, 0.2601, 0.2601],\n",
       "           [1.0000, 0.9961, 0.8771,  ..., 0.2758, 0.2601, 0.2601],\n",
       "           [1.0000, 0.9961, 0.8850,  ..., 0.2797, 0.2601, 0.2601],\n",
       "           ...,\n",
       "           [1.0000, 0.9882, 0.6784,  ..., 0.4078, 0.4039, 0.4000],\n",
       "           [0.9961, 0.9882, 0.6810,  ..., 0.4000, 0.4039, 0.4078],\n",
       "           [1.0000, 0.9882, 0.6784,  ..., 0.4078, 0.4118, 0.4196]]],\n",
       " \n",
       " \n",
       "         [[[0.6863, 0.6954, 0.6941,  ..., 0.2654, 0.2536, 0.4536],\n",
       "           [0.6863, 0.6941, 0.6902,  ..., 0.2575, 0.2575, 0.4497],\n",
       "           [0.6902, 0.6941, 0.6941,  ..., 0.2601, 0.2575, 0.4497],\n",
       "           ...,\n",
       "           [0.3373, 0.3373, 0.3412,  ..., 0.2993, 0.2915, 0.4837],\n",
       "           [0.3373, 0.3412, 0.3451,  ..., 0.2993, 0.2915, 0.4797],\n",
       "           [0.3373, 0.3451, 0.3451,  ..., 0.2993, 0.2915, 0.4797]],\n",
       " \n",
       "          [[0.6863, 0.6954, 0.6941,  ..., 0.2654, 0.2536, 0.4536],\n",
       "           [0.6863, 0.6941, 0.6902,  ..., 0.2575, 0.2575, 0.4497],\n",
       "           [0.6902, 0.6941, 0.6941,  ..., 0.2601, 0.2575, 0.4497],\n",
       "           ...,\n",
       "           [0.3373, 0.3373, 0.3412,  ..., 0.2993, 0.2915, 0.4837],\n",
       "           [0.3373, 0.3412, 0.3451,  ..., 0.2993, 0.2915, 0.4797],\n",
       "           [0.3373, 0.3451, 0.3451,  ..., 0.2993, 0.2915, 0.4797]],\n",
       " \n",
       "          [[0.6863, 0.6954, 0.6941,  ..., 0.2654, 0.2536, 0.4536],\n",
       "           [0.6863, 0.6941, 0.6902,  ..., 0.2575, 0.2575, 0.4497],\n",
       "           [0.6902, 0.6941, 0.6941,  ..., 0.2601, 0.2575, 0.4497],\n",
       "           ...,\n",
       "           [0.3373, 0.3373, 0.3412,  ..., 0.2993, 0.2915, 0.4837],\n",
       "           [0.3373, 0.3412, 0.3451,  ..., 0.2993, 0.2915, 0.4797],\n",
       "           [0.3373, 0.3451, 0.3451,  ..., 0.2993, 0.2915, 0.4797]]],\n",
       " \n",
       " \n",
       "         [[[0.7294, 0.7307, 0.7359,  ..., 0.2889, 0.2889, 0.2876],\n",
       "           [0.7268, 0.7346, 0.7346,  ..., 0.2614, 0.2614, 0.2601],\n",
       "           [0.7346, 0.7346, 0.7412,  ..., 0.2614, 0.2614, 0.2575],\n",
       "           ...,\n",
       "           [0.5359, 0.5647, 0.5843,  ..., 0.4902, 0.4902, 0.4745],\n",
       "           [0.5477, 0.5673, 0.5843,  ..., 0.4902, 0.4863, 0.4758],\n",
       "           [0.6641, 0.6889, 0.7085,  ..., 0.6235, 0.6157, 0.6105]],\n",
       " \n",
       "          [[0.7294, 0.7307, 0.7359,  ..., 0.2889, 0.2889, 0.2876],\n",
       "           [0.7268, 0.7346, 0.7346,  ..., 0.2614, 0.2614, 0.2601],\n",
       "           [0.7346, 0.7346, 0.7412,  ..., 0.2614, 0.2614, 0.2575],\n",
       "           ...,\n",
       "           [0.5359, 0.5647, 0.5843,  ..., 0.4902, 0.4902, 0.4745],\n",
       "           [0.5477, 0.5673, 0.5843,  ..., 0.4902, 0.4863, 0.4758],\n",
       "           [0.6641, 0.6889, 0.7085,  ..., 0.6235, 0.6157, 0.6105]],\n",
       " \n",
       "          [[0.7294, 0.7307, 0.7359,  ..., 0.2889, 0.2889, 0.2876],\n",
       "           [0.7268, 0.7346, 0.7346,  ..., 0.2614, 0.2614, 0.2601],\n",
       "           [0.7346, 0.7346, 0.7412,  ..., 0.2614, 0.2614, 0.2575],\n",
       "           ...,\n",
       "           [0.5359, 0.5647, 0.5843,  ..., 0.4902, 0.4902, 0.4745],\n",
       "           [0.5477, 0.5673, 0.5843,  ..., 0.4902, 0.4863, 0.4758],\n",
       "           [0.6641, 0.6889, 0.7085,  ..., 0.6235, 0.6157, 0.6105]]],\n",
       " \n",
       " \n",
       "         ...,\n",
       " \n",
       " \n",
       "         [[[0.2765, 0.2618, 0.2559,  ..., 0.2559, 0.2559, 0.2559],\n",
       "           [0.2765, 0.2618, 0.2559,  ..., 0.2559, 0.2559, 0.2559],\n",
       "           [0.2735, 0.2588, 0.2559,  ..., 0.2529, 0.2529, 0.2529],\n",
       "           ...,\n",
       "           [0.2912, 0.2912, 0.2912,  ..., 0.3088, 0.2941, 0.2853],\n",
       "           [0.3441, 0.3441, 0.3471,  ..., 0.3559, 0.3471, 0.3412],\n",
       "           [0.3706, 0.3706, 0.3735,  ..., 0.3794, 0.3706, 0.3676]],\n",
       " \n",
       "          [[0.2765, 0.2618, 0.2559,  ..., 0.2559, 0.2559, 0.2559],\n",
       "           [0.2765, 0.2618, 0.2559,  ..., 0.2559, 0.2559, 0.2559],\n",
       "           [0.2735, 0.2588, 0.2559,  ..., 0.2529, 0.2529, 0.2529],\n",
       "           ...,\n",
       "           [0.2912, 0.2912, 0.2912,  ..., 0.3088, 0.2941, 0.2853],\n",
       "           [0.3441, 0.3441, 0.3471,  ..., 0.3559, 0.3471, 0.3412],\n",
       "           [0.3706, 0.3706, 0.3735,  ..., 0.3794, 0.3706, 0.3676]],\n",
       " \n",
       "          [[0.2765, 0.2618, 0.2559,  ..., 0.2559, 0.2559, 0.2559],\n",
       "           [0.2765, 0.2618, 0.2559,  ..., 0.2559, 0.2559, 0.2559],\n",
       "           [0.2735, 0.2588, 0.2559,  ..., 0.2529, 0.2529, 0.2529],\n",
       "           ...,\n",
       "           [0.2912, 0.2912, 0.2912,  ..., 0.3088, 0.2941, 0.2853],\n",
       "           [0.3441, 0.3441, 0.3471,  ..., 0.3559, 0.3471, 0.3412],\n",
       "           [0.3706, 0.3706, 0.3735,  ..., 0.3794, 0.3706, 0.3676]]],\n",
       " \n",
       " \n",
       "         [[[0.0235, 0.0274, 0.0274,  ..., 0.0274, 0.0274, 0.0274],\n",
       "           [0.0235, 0.0274, 0.0274,  ..., 0.0274, 0.0274, 0.0274],\n",
       "           [0.0235, 0.0274, 0.0274,  ..., 0.0274, 0.0274, 0.0274],\n",
       "           ...,\n",
       "           [0.4392, 0.4510, 0.4627,  ..., 0.4314, 0.4314, 0.4471],\n",
       "           [0.4431, 0.4549, 0.4667,  ..., 0.4235, 0.4235, 0.4314],\n",
       "           [0.4471, 0.4588, 0.4667,  ..., 0.4235, 0.4235, 0.4275]],\n",
       " \n",
       "          [[0.0235, 0.0274, 0.0274,  ..., 0.0274, 0.0274, 0.0274],\n",
       "           [0.0235, 0.0274, 0.0274,  ..., 0.0274, 0.0274, 0.0274],\n",
       "           [0.0235, 0.0274, 0.0274,  ..., 0.0274, 0.0274, 0.0274],\n",
       "           ...,\n",
       "           [0.4392, 0.4510, 0.4627,  ..., 0.4314, 0.4314, 0.4471],\n",
       "           [0.4431, 0.4549, 0.4667,  ..., 0.4235, 0.4235, 0.4314],\n",
       "           [0.4471, 0.4588, 0.4667,  ..., 0.4235, 0.4235, 0.4275]],\n",
       " \n",
       "          [[0.0235, 0.0274, 0.0274,  ..., 0.0274, 0.0274, 0.0274],\n",
       "           [0.0235, 0.0274, 0.0274,  ..., 0.0274, 0.0274, 0.0274],\n",
       "           [0.0235, 0.0274, 0.0274,  ..., 0.0274, 0.0274, 0.0274],\n",
       "           ...,\n",
       "           [0.4392, 0.4510, 0.4627,  ..., 0.4314, 0.4314, 0.4471],\n",
       "           [0.4431, 0.4549, 0.4667,  ..., 0.4235, 0.4235, 0.4314],\n",
       "           [0.4471, 0.4588, 0.4667,  ..., 0.4235, 0.4235, 0.4275]]],\n",
       " \n",
       " \n",
       "         [[[0.0000, 0.0353, 0.0431,  ..., 0.0157, 0.0039, 0.0000],\n",
       "           [0.0000, 0.0431, 0.0588,  ..., 0.0157, 0.0039, 0.0000],\n",
       "           [0.0000, 0.0510, 0.0667,  ..., 0.0157, 0.0000, 0.0000],\n",
       "           ...,\n",
       "           [0.0039, 0.0118, 0.0157,  ..., 0.1216, 0.0823, 0.0196],\n",
       "           [0.0039, 0.0118, 0.0157,  ..., 0.1176, 0.0784, 0.0157],\n",
       "           [0.0039, 0.0118, 0.0118,  ..., 0.1137, 0.0745, 0.0118]],\n",
       " \n",
       "          [[0.0000, 0.0353, 0.0431,  ..., 0.0157, 0.0039, 0.0000],\n",
       "           [0.0000, 0.0431, 0.0588,  ..., 0.0157, 0.0039, 0.0000],\n",
       "           [0.0000, 0.0510, 0.0667,  ..., 0.0157, 0.0000, 0.0000],\n",
       "           ...,\n",
       "           [0.0039, 0.0118, 0.0157,  ..., 0.1216, 0.0823, 0.0196],\n",
       "           [0.0039, 0.0118, 0.0157,  ..., 0.1176, 0.0784, 0.0157],\n",
       "           [0.0039, 0.0118, 0.0118,  ..., 0.1137, 0.0745, 0.0118]],\n",
       " \n",
       "          [[0.0000, 0.0353, 0.0431,  ..., 0.0157, 0.0039, 0.0000],\n",
       "           [0.0000, 0.0431, 0.0588,  ..., 0.0157, 0.0039, 0.0000],\n",
       "           [0.0000, 0.0510, 0.0667,  ..., 0.0157, 0.0000, 0.0000],\n",
       "           ...,\n",
       "           [0.0039, 0.0118, 0.0157,  ..., 0.1216, 0.0823, 0.0196],\n",
       "           [0.0039, 0.0118, 0.0157,  ..., 0.1176, 0.0784, 0.0157],\n",
       "           [0.0039, 0.0118, 0.0118,  ..., 0.1137, 0.0745, 0.0118]]]]),\n",
       " tensor([1, 1, 1, 1, 1, 1, 0, 0, 0, 0, 0, 0, 0, 1, 1, 1, 1, 1, 1, 1, 1, 1, 1, 1,\n",
       "         1, 1, 1, 1, 1, 1, 0, 0, 0, 0, 0, 0, 0, 0, 1, 1, 1, 1, 1, 1, 1, 1, 1, 1,\n",
       "         1, 1, 1, 1, 1, 1, 1, 1, 1, 1, 1, 1, 1, 1, 1, 1, 1, 1, 1, 1, 1, 1]),\n",
       " tensor([[[[0.0039, 0.0039, 0.0039,  ..., 0.0039, 0.0039, 0.0039],\n",
       "           [0.0039, 0.0039, 0.0039,  ..., 0.0039, 0.0039, 0.0039],\n",
       "           [0.0039, 0.0039, 0.0039,  ..., 0.0039, 0.0039, 0.0039],\n",
       "           ...,\n",
       "           [0.0039, 0.0039, 0.0039,  ..., 0.3176, 0.3059, 0.2902],\n",
       "           [0.0039, 0.0039, 0.0039,  ..., 0.3216, 0.3098, 0.2863],\n",
       "           [0.0039, 0.0039, 0.0039,  ..., 0.2353, 0.2314, 0.2157]],\n",
       " \n",
       "          [[0.0039, 0.0039, 0.0039,  ..., 0.0039, 0.0039, 0.0039],\n",
       "           [0.0039, 0.0039, 0.0039,  ..., 0.0039, 0.0039, 0.0039],\n",
       "           [0.0039, 0.0039, 0.0039,  ..., 0.0039, 0.0039, 0.0039],\n",
       "           ...,\n",
       "           [0.0039, 0.0039, 0.0039,  ..., 0.3176, 0.3059, 0.2902],\n",
       "           [0.0039, 0.0039, 0.0039,  ..., 0.3216, 0.3098, 0.2863],\n",
       "           [0.0039, 0.0039, 0.0039,  ..., 0.2353, 0.2314, 0.2157]],\n",
       " \n",
       "          [[0.0039, 0.0039, 0.0039,  ..., 0.0039, 0.0039, 0.0039],\n",
       "           [0.0039, 0.0039, 0.0039,  ..., 0.0039, 0.0039, 0.0039],\n",
       "           [0.0039, 0.0039, 0.0039,  ..., 0.0039, 0.0039, 0.0039],\n",
       "           ...,\n",
       "           [0.0039, 0.0039, 0.0039,  ..., 0.3176, 0.3059, 0.2902],\n",
       "           [0.0039, 0.0039, 0.0039,  ..., 0.3216, 0.3098, 0.2863],\n",
       "           [0.0039, 0.0039, 0.0039,  ..., 0.2353, 0.2314, 0.2157]]],\n",
       " \n",
       " \n",
       "         [[[0.2353, 0.2314, 0.2314,  ..., 0.0549, 0.0588, 0.0549],\n",
       "           [0.2431, 0.2314, 0.2314,  ..., 0.0588, 0.0588, 0.0627],\n",
       "           [0.2274, 0.2274, 0.2314,  ..., 0.0549, 0.0588, 0.0588],\n",
       "           ...,\n",
       "           [0.9529, 0.9569, 0.9569,  ..., 0.7961, 0.7882, 0.7804],\n",
       "           [0.9569, 0.9569, 0.9569,  ..., 0.7922, 0.7961, 0.7804],\n",
       "           [0.9569, 0.9608, 0.9569,  ..., 0.7961, 0.7922, 0.7804]],\n",
       " \n",
       "          [[0.2353, 0.2314, 0.2314,  ..., 0.0549, 0.0588, 0.0549],\n",
       "           [0.2431, 0.2314, 0.2314,  ..., 0.0588, 0.0588, 0.0627],\n",
       "           [0.2274, 0.2274, 0.2314,  ..., 0.0549, 0.0588, 0.0588],\n",
       "           ...,\n",
       "           [0.9529, 0.9569, 0.9569,  ..., 0.7961, 0.7882, 0.7804],\n",
       "           [0.9569, 0.9569, 0.9569,  ..., 0.7922, 0.7961, 0.7804],\n",
       "           [0.9569, 0.9608, 0.9569,  ..., 0.7961, 0.7922, 0.7804]],\n",
       " \n",
       "          [[0.2353, 0.2314, 0.2314,  ..., 0.0549, 0.0588, 0.0549],\n",
       "           [0.2431, 0.2314, 0.2314,  ..., 0.0588, 0.0588, 0.0627],\n",
       "           [0.2274, 0.2274, 0.2314,  ..., 0.0549, 0.0588, 0.0588],\n",
       "           ...,\n",
       "           [0.9529, 0.9569, 0.9569,  ..., 0.7961, 0.7882, 0.7804],\n",
       "           [0.9569, 0.9569, 0.9569,  ..., 0.7922, 0.7961, 0.7804],\n",
       "           [0.9569, 0.9608, 0.9569,  ..., 0.7961, 0.7922, 0.7804]]],\n",
       " \n",
       " \n",
       "         [[[0.0000, 0.0039, 0.0078,  ..., 0.0039, 0.0039, 0.3294],\n",
       "           [0.0000, 0.0078, 0.0863,  ..., 0.0000, 0.0039, 0.3294],\n",
       "           [0.0039, 0.0431, 0.5843,  ..., 0.0000, 0.0039, 0.3294],\n",
       "           ...,\n",
       "           [0.0000, 0.0000, 0.0000,  ..., 0.0000, 0.0000, 0.3294],\n",
       "           [0.0000, 0.0000, 0.0000,  ..., 0.0000, 0.0000, 0.3294],\n",
       "           [0.0000, 0.0000, 0.0000,  ..., 0.0000, 0.0000, 0.3294]],\n",
       " \n",
       "          [[0.0000, 0.0039, 0.0078,  ..., 0.0039, 0.0039, 0.3294],\n",
       "           [0.0000, 0.0078, 0.0863,  ..., 0.0000, 0.0039, 0.3294],\n",
       "           [0.0039, 0.0431, 0.5843,  ..., 0.0000, 0.0039, 0.3294],\n",
       "           ...,\n",
       "           [0.0000, 0.0000, 0.0000,  ..., 0.0000, 0.0000, 0.3294],\n",
       "           [0.0000, 0.0000, 0.0000,  ..., 0.0000, 0.0000, 0.3294],\n",
       "           [0.0000, 0.0000, 0.0000,  ..., 0.0000, 0.0000, 0.3294]],\n",
       " \n",
       "          [[0.0000, 0.0039, 0.0078,  ..., 0.0039, 0.0039, 0.3294],\n",
       "           [0.0000, 0.0078, 0.0863,  ..., 0.0000, 0.0039, 0.3294],\n",
       "           [0.0039, 0.0431, 0.5843,  ..., 0.0000, 0.0039, 0.3294],\n",
       "           ...,\n",
       "           [0.0000, 0.0000, 0.0000,  ..., 0.0000, 0.0000, 0.3294],\n",
       "           [0.0000, 0.0000, 0.0000,  ..., 0.0000, 0.0000, 0.3294],\n",
       "           [0.0000, 0.0000, 0.0000,  ..., 0.0000, 0.0000, 0.3294]]],\n",
       " \n",
       " \n",
       "         ...,\n",
       " \n",
       " \n",
       "         [[[0.3804, 0.3569, 0.3373,  ..., 0.0510, 0.0471, 0.0471],\n",
       "           [0.1569, 0.1294, 0.1020,  ..., 0.0039, 0.0039, 0.0039],\n",
       "           [0.0549, 0.0353, 0.0157,  ..., 0.0039, 0.0078, 0.0039],\n",
       "           ...,\n",
       "           [0.0039, 0.0039, 0.0039,  ..., 0.0118, 0.0039, 0.0039],\n",
       "           [0.0039, 0.0039, 0.0039,  ..., 0.0157, 0.0039, 0.0039],\n",
       "           [0.0039, 0.0039, 0.0039,  ..., 0.0157, 0.0039, 0.0039]],\n",
       " \n",
       "          [[0.3804, 0.3569, 0.3373,  ..., 0.0510, 0.0471, 0.0471],\n",
       "           [0.1569, 0.1294, 0.1020,  ..., 0.0039, 0.0039, 0.0039],\n",
       "           [0.0549, 0.0353, 0.0157,  ..., 0.0039, 0.0078, 0.0039],\n",
       "           ...,\n",
       "           [0.0039, 0.0039, 0.0039,  ..., 0.0118, 0.0039, 0.0039],\n",
       "           [0.0039, 0.0039, 0.0039,  ..., 0.0157, 0.0039, 0.0039],\n",
       "           [0.0039, 0.0039, 0.0039,  ..., 0.0157, 0.0039, 0.0039]],\n",
       " \n",
       "          [[0.3804, 0.3569, 0.3373,  ..., 0.0510, 0.0471, 0.0471],\n",
       "           [0.1569, 0.1294, 0.1020,  ..., 0.0039, 0.0039, 0.0039],\n",
       "           [0.0549, 0.0353, 0.0157,  ..., 0.0039, 0.0078, 0.0039],\n",
       "           ...,\n",
       "           [0.0039, 0.0039, 0.0039,  ..., 0.0118, 0.0039, 0.0039],\n",
       "           [0.0039, 0.0039, 0.0039,  ..., 0.0157, 0.0039, 0.0039],\n",
       "           [0.0039, 0.0039, 0.0039,  ..., 0.0157, 0.0039, 0.0039]]],\n",
       " \n",
       " \n",
       "         [[[0.2677, 0.2706, 0.2706,  ..., 0.2941, 0.2853, 0.2824],\n",
       "           [0.2706, 0.2706, 0.2706,  ..., 0.3088, 0.3029, 0.2971],\n",
       "           [0.2706, 0.2706, 0.2706,  ..., 0.3235, 0.3206, 0.3147],\n",
       "           ...,\n",
       "           [0.3441, 0.3471, 0.3529,  ..., 0.6853, 0.7000, 0.6706],\n",
       "           [0.3412, 0.3471, 0.3529,  ..., 0.6794, 0.7000, 0.6824],\n",
       "           [0.3412, 0.3471, 0.3529,  ..., 0.6794, 0.6971, 0.6882]],\n",
       " \n",
       "          [[0.2677, 0.2706, 0.2706,  ..., 0.2941, 0.2853, 0.2824],\n",
       "           [0.2706, 0.2706, 0.2706,  ..., 0.3088, 0.3029, 0.2971],\n",
       "           [0.2706, 0.2706, 0.2706,  ..., 0.3235, 0.3206, 0.3147],\n",
       "           ...,\n",
       "           [0.3441, 0.3471, 0.3529,  ..., 0.6853, 0.7000, 0.6706],\n",
       "           [0.3412, 0.3471, 0.3529,  ..., 0.6794, 0.7000, 0.6824],\n",
       "           [0.3412, 0.3471, 0.3529,  ..., 0.6794, 0.6971, 0.6882]],\n",
       " \n",
       "          [[0.2677, 0.2706, 0.2706,  ..., 0.2941, 0.2853, 0.2824],\n",
       "           [0.2706, 0.2706, 0.2706,  ..., 0.3088, 0.3029, 0.2971],\n",
       "           [0.2706, 0.2706, 0.2706,  ..., 0.3235, 0.3206, 0.3147],\n",
       "           ...,\n",
       "           [0.3441, 0.3471, 0.3529,  ..., 0.6853, 0.7000, 0.6706],\n",
       "           [0.3412, 0.3471, 0.3529,  ..., 0.6794, 0.7000, 0.6824],\n",
       "           [0.3412, 0.3471, 0.3529,  ..., 0.6794, 0.6971, 0.6882]]],\n",
       " \n",
       " \n",
       "         [[[0.0000, 0.0000, 0.0000,  ..., 0.0000, 0.0000, 0.0000],\n",
       "           [0.0000, 0.0000, 0.0000,  ..., 0.0000, 0.0000, 0.0000],\n",
       "           [0.0000, 0.0000, 0.0000,  ..., 0.0000, 0.0000, 0.0000],\n",
       "           ...,\n",
       "           [0.2118, 0.2314, 0.2510,  ..., 0.0000, 0.0000, 0.0000],\n",
       "           [0.2157, 0.2353, 0.2471,  ..., 0.0000, 0.0000, 0.0000],\n",
       "           [0.2039, 0.2353, 0.2588,  ..., 0.0000, 0.0000, 0.0000]],\n",
       " \n",
       "          [[0.0000, 0.0000, 0.0000,  ..., 0.0000, 0.0000, 0.0000],\n",
       "           [0.0000, 0.0000, 0.0000,  ..., 0.0000, 0.0000, 0.0000],\n",
       "           [0.0000, 0.0000, 0.0000,  ..., 0.0000, 0.0000, 0.0000],\n",
       "           ...,\n",
       "           [0.2118, 0.2314, 0.2510,  ..., 0.0000, 0.0000, 0.0000],\n",
       "           [0.2157, 0.2353, 0.2471,  ..., 0.0000, 0.0000, 0.0000],\n",
       "           [0.2039, 0.2353, 0.2588,  ..., 0.0000, 0.0000, 0.0000]],\n",
       " \n",
       "          [[0.0000, 0.0000, 0.0000,  ..., 0.0000, 0.0000, 0.0000],\n",
       "           [0.0000, 0.0000, 0.0000,  ..., 0.0000, 0.0000, 0.0000],\n",
       "           [0.0000, 0.0000, 0.0000,  ..., 0.0000, 0.0000, 0.0000],\n",
       "           ...,\n",
       "           [0.2118, 0.2314, 0.2510,  ..., 0.0000, 0.0000, 0.0000],\n",
       "           [0.2157, 0.2353, 0.2471,  ..., 0.0000, 0.0000, 0.0000],\n",
       "           [0.2039, 0.2353, 0.2588,  ..., 0.0000, 0.0000, 0.0000]]]]))"
      ]
     },
     "execution_count": 21,
     "metadata": {},
     "output_type": "execute_result"
    }
   ],
   "source": [
    "load_data(save_images=True)"
   ]
  },
  {
   "cell_type": "code",
   "execution_count": null,
   "metadata": {},
   "outputs": [],
   "source": []
  }
 ],
 "metadata": {
  "kernelspec": {
   "display_name": "Python 3",
   "language": "python",
   "name": "python3"
  },
  "language_info": {
   "codemirror_mode": {
    "name": "ipython",
    "version": 3
   },
   "file_extension": ".py",
   "mimetype": "text/x-python",
   "name": "python",
   "nbconvert_exporter": "python",
   "pygments_lexer": "ipython3",
   "version": "3.7.4"
  }
 },
 "nbformat": 4,
 "nbformat_minor": 1
}
