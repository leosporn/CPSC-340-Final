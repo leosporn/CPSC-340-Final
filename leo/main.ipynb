{
 "cells": [
  {
   "cell_type": "markdown",
   "source": [
    "# Predicting COVID-19 from chest X-ray images."
   ],
   "metadata": {
    "collapsed": false,
    "pycharm": {
     "name": "#%% md\n"
    }
   }
  },
  {
   "cell_type": "markdown",
   "source": [
    "## 1. Import relevant libraries"
   ],
   "metadata": {
    "collapsed": false
   }
  },
  {
   "cell_type": "code",
   "execution_count": 135,
   "outputs": [],
   "source": [
    "# Libraries to open data\n",
    "import os\n",
    "import pickle\n",
    "\n",
    "# Torch and PIL libraries for image preprocessing\n",
    "from PIL import Image\n",
    "import torch\n",
    "import torchvision\n",
    "\n",
    "# numpy and matplotlib.pyplot to visualize data\n",
    "import numpy as np\n",
    "import matplotlib.pyplot as plt\n",
    "%matplotlib inline\n",
    "\n",
    "# Keras libraries for CNN\n",
    "from keras.utils import to_categorical\n",
    "from keras.models import Sequential\n",
    "from keras.layers import Conv2D, Flatten, Dense"
   ],
   "metadata": {
    "collapsed": false,
    "pycharm": {
     "name": "#%%\n",
     "is_executing": false
    }
   }
  },
  {
   "cell_type": "markdown",
   "source": [
    "## 2. Define constants"
   ],
   "metadata": {
    "collapsed": false,
    "pycharm": {
     "name": "#%% md\n"
    }
   }
  },
  {
   "cell_type": "code",
   "execution_count": 136,
   "outputs": [],
   "source": [
    "# Verbose levels\n",
    "VERBOSE = {\n",
    "    'progress': True,\n",
    "    'augmenting': False,\n",
    "}\n",
    "\n",
    "# Pathnames and filenames\n",
    "DIR = {'data': os.path.join('..', 'data'), 'images': os.path.join('..', 'images')}\n",
    "FILENAMES = {\n",
    "    'X_train': os.path.join(DIR['data'], 'train_images_512.pk'),\n",
    "    'y_train': os.path.join(DIR['data'], 'train_labels_512.pk'),\n",
    "    'X_test': os.path.join(DIR['data'], 'test_images_512.pk'),\n",
    "}\n",
    "\n",
    "# Parameters to load raw data\n",
    "SHIFT, SCALE = 1, 127.5  # data = (data + 1) * 127.5\n",
    "SIZE = {'raw': 512, 'final': 256} # size of raw data and data after downsampling\n",
    "\n",
    "# Relative amount of data used for training vs validation\n",
    "TRAIN_VALID_RATIO = 2 / 1  # i.e. ratio of training data : validation data = 2:1\n",
    "\n",
    "# Parameters for data augmentation\n",
    "N_TRAIN = 100\n",
    "POS_NEG_RATIO = 1 / 1 # negative : positive samples in augmented training set = 1:1\n",
    "\n",
    "# Parameters for data augmentation\n",
    "TRANSFORMATIONS = torchvision.transforms.Compose([\n",
    "    torchvision.transforms.RandomHorizontalFlip(p=0.5),\n",
    "    torchvision.transforms.RandomAffine(degrees=15, translate=(0.02, 0.02), scale=(1, 1.15)),\n",
    "    torchvision.transforms.ColorJitter(contrast=0.4, brightness=0.4),\n",
    "    torchvision.transforms.RandomErasing(p=0.3, scale=(0.01, 0.03), ratio=(1 / 3, 3)),\n",
    "    torchvision.transforms.ToTensor(),\n",
    "])"
   ],
   "metadata": {
    "collapsed": false,
    "pycharm": {
     "name": "#%%\n",
     "is_executing": false
    }
   }
  },
  {
   "cell_type": "markdown",
   "source": [
    "## 3. Define functions"
   ],
   "metadata": {
    "collapsed": false,
    "pycharm": {
     "name": "#%% md\n"
    }
   }
  },
  {
   "cell_type": "code",
   "execution_count": 137,
   "outputs": [],
   "source": [
    "# Function to print progress\n",
    "def verbose_print(message, print_flag, end='\\n'):\n",
    "    if print_flag:\n",
    "        print(message, end=end)"
   ],
   "metadata": {
    "collapsed": false,
    "pycharm": {
     "name": "#%%\n",
     "is_executing": false
    }
   }
  },
  {
   "cell_type": "code",
   "execution_count": 138,
   "outputs": [],
   "source": [
    "# Functions to load data\n",
    "def load_pk(filename):\n",
    "    with open(filename, 'rb') as f:\n",
    "        return pickle.load(f, encoding='bytes')\n",
    "\n",
    "def load_X(filename):\n",
    "    X = load_pk(filename)\n",
    "    assert X.size(2) == X.size(3) == SIZE['raw']\n",
    "    return SCALE * (X[:, :1, :, :] + SHIFT)\n",
    "\n",
    "def load_y(filename):\n",
    "    y = load_pk(filename)\n",
    "    return y.type(torch.long)  # convert to integer"
   ],
   "metadata": {
    "collapsed": false,
    "pycharm": {
     "name": "#%%\n",
     "is_executing": false
    }
   }
  },
  {
   "cell_type": "code",
   "execution_count": 139,
   "outputs": [],
   "source": [
    "# Functions to preprocess data\n",
    "def downsample(X):\n",
    "    f = SIZE['raw'] // SIZE['final']\n",
    "    for i in range(SIZE['final']):\n",
    "        for j in range(SIZE['final']):\n",
    "            X[:, :, i, j] = X[:, :, i * f:(i + 1) * f, j * f:(j + 1)*f].mean(-1).mean(-1)\n",
    "    return X[:, :, :SIZE['final'], :SIZE['final']]"
   ],
   "metadata": {
    "collapsed": false,
    "pycharm": {
     "name": "#%%\n",
     "is_executing": false
    }
   }
  },
  {
   "cell_type": "code",
   "execution_count": 140,
   "outputs": [],
   "source": [
    "# Function to split data into training and validation sets\n",
    "def split_train_valid(X, y):\n",
    "    def split(X, y, f):\n",
    "        idx, k = torch.randperm(y.size(0)), round(y.size(0) * f)\n",
    "        return X[idx[:k]], y[idx[:k]], X[idx[k:]], y[idx[k:]]\n",
    "    f = TRAIN_VALID_RATIO / (1 + TRAIN_VALID_RATIO)\n",
    "    X_train_0, y_train_0, X_valid_0, y_valid_0 = split(X[y == 0], y[y == 0], f)\n",
    "    X_train_1, y_train_1, X_valid_1, y_valid_1 = split(X[y == 1], y[y == 1], f)\n",
    "    X_train, y_train = torch.cat((X_train_0, X_train_1)), torch.cat((y_train_0, y_train_1))\n",
    "    X_valid, y_valid = torch.cat((X_valid_0, X_valid_1)), torch.cat((y_valid_0, y_valid_1))\n",
    "    return X_train, y_train, X_valid, y_valid"
   ],
   "metadata": {
    "collapsed": false,
    "pycharm": {
     "name": "#%%\n",
     "is_executing": false
    }
   }
  },
  {
   "cell_type": "code",
   "execution_count": 141,
   "outputs": [],
   "source": [
    "# Function to augment training data\n",
    "def augment(X_in, y_in, transform_fn):\n",
    "    def transform(im_):\n",
    "        while True:\n",
    "            try:\n",
    "                return transform_fn(im_)\n",
    "            except AttributeError:\n",
    "                verbose_print(f'Something went wrong', VERBOSE['augmenting'])\n",
    "                continue\n",
    "    X_out, y_out = torch.zeros(N_TRAIN, 1, SIZE['final'], SIZE['final']), torch.zeros(N_TRAIN)\n",
    "    f = POS_NEG_RATIO / (1 + POS_NEG_RATIO)\n",
    "    for i in range(N_TRAIN):\n",
    "        label = int(torch.rand(1, 1) > f)\n",
    "        X = X_in[y_in == label]\n",
    "        choice = int(torch.randint(0, X.size(0), (1, 1)))\n",
    "        im = torchvision.transforms.functional.to_pil_image(X[choice])\n",
    "        X_out[i], y_out[i] = transform(im), label\n",
    "    return X_out, y_out"
   ],
   "metadata": {
    "collapsed": false,
    "pycharm": {
     "name": "#%%\n",
     "is_executing": false
    }
   }
  },
  {
   "cell_type": "code",
   "execution_count": 142,
   "outputs": [],
   "source": [
    "# Function to visualize transformed training data\n",
    "def display(X, h=4, w=5):\n",
    "    s = SIZE['final']\n",
    "    im = np.empty((1, h * s, w * s))\n",
    "    idx = np.random.choice(X.size(0), (h, w), replace=False)\n",
    "    for i in range(h):\n",
    "        for j in range(w):\n",
    "            im[:, s * i:s * (i + 1), s * j:s * (j + 1)] = np.array(X[idx[i, j]])\n",
    "    plt.imshow(im.transpose((1, 2, 0)).repeat(3, 2))\n",
    "    plt.title('Augmented training data sample')\n",
    "    plt.axis('off')\n",
    "    plt.show()"
   ],
   "metadata": {
    "collapsed": false,
    "pycharm": {
     "name": "#%%\n",
     "is_executing": false
    }
   }
  },
  {
   "cell_type": "markdown",
   "source": [
    "## 4. Load and preprocess data"
   ],
   "metadata": {
    "collapsed": false,
    "pycharm": {
     "name": "#%% md\n",
     "is_executing": false
    }
   }
  },
  {
   "cell_type": "code",
   "execution_count": 143,
   "outputs": [
    {
     "name": "stdout",
     "text": [
      "Loading data...               DONE\n"
     ],
     "output_type": "stream"
    }
   ],
   "source": [
    "# Load raw data\n",
    "verbose_print(f'{\"Loading data...\":30s}', VERBOSE['progress'], end='')\n",
    "X_train = load_X(FILENAMES['X_train'])\n",
    "y_train = load_y(FILENAMES['y_train'])\n",
    "X_test = load_X(FILENAMES['X_test'])\n",
    "verbose_print('DONE', VERBOSE['progress'])"
   ],
   "metadata": {
    "collapsed": false,
    "pycharm": {
     "name": "#%%\n",
     "is_executing": false
    }
   }
  },
  {
   "cell_type": "code",
   "execution_count": 144,
   "outputs": [
    {
     "name": "stdout",
     "text": [
      "Downsampling data...          DONE\n"
     ],
     "output_type": "stream"
    }
   ],
   "source": [
    "# Downsample data\n",
    "verbose_print(f'{\"Downsampling data...\":30s}', VERBOSE['progress'], end='')\n",
    "X_train = downsample(X_train)\n",
    "X_test = downsample(X_test)\n",
    "verbose_print('DONE', VERBOSE['progress'])"
   ],
   "metadata": {
    "collapsed": false,
    "pycharm": {
     "name": "#%%\n",
     "is_executing": false
    }
   }
  },
  {
   "cell_type": "code",
   "execution_count": 145,
   "outputs": [
    {
     "name": "stdout",
     "text": [
      "Splitting data...             DONE\n"
     ],
     "output_type": "stream"
    }
   ],
   "source": [
    "# Split training data into training and validation sets\n",
    "verbose_print(f'{\"Splitting data...\":30s}', VERBOSE['progress'], end='')\n",
    "X_train, y_train, X_valid, y_valid = split_train_valid(X_train, y_train)\n",
    "verbose_print('DONE', VERBOSE['progress'])"
   ],
   "metadata": {
    "collapsed": false,
    "pycharm": {
     "name": "#%%\n",
     "is_executing": false
    }
   }
  },
  {
   "cell_type": "code",
   "execution_count": 146,
   "outputs": [
    {
     "name": "stdout",
     "text": [
      "Augmenting data...            DONE\n"
     ],
     "output_type": "stream"
    }
   ],
   "source": [
    "# Augment data\n",
    "verbose_print(f'{\"Augmenting data...\":30s}', VERBOSE['progress'], end='')\n",
    "X_train, y_train = augment(X_train, y_train, TRANSFORMATIONS)\n",
    "verbose_print('DONE', VERBOSE['progress'])"
   ],
   "metadata": {
    "collapsed": false,
    "pycharm": {
     "name": "#%%\n",
     "is_executing": false
    }
   }
  },
  {
   "cell_type": "code",
   "execution_count": 147,
   "outputs": [
    {
     "data": {
      "text/plain": "<Figure size 432x288 with 1 Axes>",
      "image/png": "[encoded data removed]"
     },
     "metadata": {
      "needs_background": "light"
     },
     "output_type": "display_data"
    }
   ],
   "source": [
    "display(X_train)"
   ],
   "metadata": {
    "collapsed": false,
    "pycharm": {
     "name": "#%%\n",
     "is_executing": false
    }
   }
  },
  {
   "cell_type": "code",
   "execution_count": 148,
   "outputs": [
    {
     "name": "stdout",
     "text": [
      "(100, 256, 256, 1) (100, 2)\n"
     ],
     "output_type": "stream"
    }
   ],
   "source": [
    "# Convert data to numpy arrays and reshape\n",
    "X_train = np.array(X_train).reshape((-1, SIZE['final'], SIZE['final'], 1))\n",
    "y_train = to_categorical(y_train)\n",
    "X_valid = np.array(X_valid).reshape((-1, SIZE['final'], SIZE['final'], 1))\n",
    "y_valid = to_categorical(y_valid)\n",
    "X_test = np.array(X_test).reshape((-1, SIZE['final'], SIZE['final'], 1))"
   ],
   "metadata": {
    "collapsed": false,
    "pycharm": {
     "name": "#%%\n",
     "is_executing": false
    }
   }
  },
  {
   "cell_type": "markdown",
   "source": [
    "## 5. Build CNN"
   ],
   "metadata": {
    "collapsed": false,
    "pycharm": {
     "name": "#%% md\n"
    }
   }
  },
  {
   "cell_type": "code",
   "execution_count": null,
   "outputs": [],
   "source": [
    "model = Sequential()\n",
    "model.add(Conv2D(256, kernel_size=3, activation='relu', input_shape=X_train[0].shape))\n",
    "model.add(Conv2D(32, kernel_size=3, activation='relu'))\n",
    "model.add(Flatten())\n",
    "model.add(Dense(10, activation='relu'))\n",
    "model.add(Dense(2, activation='softmax'))\n"
   ],
   "metadata": {
    "collapsed": false,
    "pycharm": {
     "name": "#%%\n"
    }
   }
  }
 ],
 "metadata": {
  "kernelspec": {
   "display_name": "Python 3",
   "language": "python",
   "name": "python3"
  },
  "language_info": {
   "codemirror_mode": {
    "name": "ipython",
    "version": 2
   },
   "file_extension": ".py",
   "mimetype": "text/x-python",
   "name": "python",
   "nbconvert_exporter": "python",
   "pygments_lexer": "ipython2",
   "version": "2.7.6"
  },
  "pycharm": {
   "stem_cell": {
    "cell_type": "raw",
    "source": [],
    "metadata": {
     "collapsed": false
    }
   }
  }
 },
 "nbformat": 4,
 "nbformat_minor": 0
}