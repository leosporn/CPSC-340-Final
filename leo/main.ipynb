{
 "cells": [
  {
   "cell_type": "markdown",
   "metadata": {
    "pycharm": {
     "name": "#%% md\n"
    }
   },
   "source": [
    "# Predicting COVID-19 from chest X-ray images."
   ]
  },
  {
   "cell_type": "markdown",
   "metadata": {},
   "source": [
    "## 1. Import relevant libraries"
   ]
  },
  {
   "cell_type": "code",
   "execution_count": 1,
   "metadata": {
    "pycharm": {
     "is_executing": false,
     "name": "#%%\n"
    }
   },
   "outputs": [
    {
     "name": "stderr",
     "output_type": "stream",
     "text": [
      "Using TensorFlow backend.\n"
     ]
    }
   ],
   "source": [
    "# Libraries to open data\n",
    "import os\n",
    "import pickle\n",
    "\n",
    "# Torch and PIL libraries for image preprocessing\n",
    "from PIL import Image\n",
    "import torch\n",
    "import torchvision\n",
    "\n",
    "# numpy and matplotlib.pyplot to visualize data\n",
    "import numpy as np\n",
    "import matplotlib.pyplot as plt\n",
    "%matplotlib inline\n",
    "\n",
    "# Keras libraries for CNN\n",
    "from keras.utils import to_categorical\n",
    "from keras.models import Sequential\n",
    "from keras.layers import Conv2D, MaxPooling2D, Flatten, Dense"
   ]
  },
  {
   "cell_type": "markdown",
   "metadata": {
    "pycharm": {
     "name": "#%% md\n"
    }
   },
   "source": [
    "## 2. Define constants"
   ]
  },
  {
   "cell_type": "code",
   "execution_count": 2,
   "metadata": {
    "pycharm": {
     "is_executing": false,
     "name": "#%%\n"
    }
   },
   "outputs": [],
   "source": [
    "# Verbose levels\n",
    "VERBOSE = {\n",
    "    'progress': True,\n",
    "    'augmenting': False,\n",
    "}\n",
    "\n",
    "# Pathnames and filenames\n",
    "DIR = {'data': os.path.join('..', 'data'), 'images': os.path.join('..', 'images')}\n",
    "FILENAMES = {\n",
    "    'X_train': os.path.join(DIR['data'], 'train_images_512.pk'),\n",
    "    'y_train': os.path.join(DIR['data'], 'train_labels_512.pk'),\n",
    "    'X_test': os.path.join(DIR['data'], 'test_images_512.pk'),\n",
    "}\n",
    "\n",
    "# Parameters to load raw data\n",
    "SHIFT, SCALE = 1, 127.5  # data = (data + 1) * 127.5\n",
    "SIZE = {'raw': 512, 'final': 256} # size of raw data and data after downsampling\n",
    "\n",
    "# Relative amount of data used for training vs validation\n",
    "TRAIN_VALID_RATIO = 2 / 1  # i.e. ratio of training data : validation data = 2:1\n",
    "\n",
    "# Parameters for data augmentation\n",
    "N_TRAIN = 1024\n",
    "POS_NEG_RATIO = 1 / 1 # negative : positive samples in augmented training set = 1:1\n",
    "\n",
    "# Parameters for data augmentation\n",
    "TRANSFORMATIONS = torchvision.transforms.Compose([\n",
    "    torchvision.transforms.RandomHorizontalFlip(p=0.5),\n",
    "    torchvision.transforms.RandomAffine(degrees=15, translate=(0.02, 0.02), scale=(1, 1.15)),\n",
    "    torchvision.transforms.ColorJitter(contrast=0.4, brightness=0.4),\n",
    "    torchvision.transforms.RandomErasing(p=0.3, scale=(0.01, 0.03), ratio=(1 / 3, 3)),\n",
    "    torchvision.transforms.ToTensor(),\n",
    "])"
   ]
  },
  {
   "cell_type": "markdown",
   "metadata": {
    "pycharm": {
     "name": "#%% md\n"
    }
   },
   "source": [
    "## 3. Define functions"
   ]
  },
  {
   "cell_type": "code",
   "execution_count": 3,
   "metadata": {
    "pycharm": {
     "is_executing": false,
     "name": "#%%\n"
    }
   },
   "outputs": [],
   "source": [
    "# Function to print progress\n",
    "def verbose_print(message, print_flag, end='\\n'):\n",
    "    if print_flag:\n",
    "        print(message, end=end)"
   ]
  },
  {
   "cell_type": "code",
   "execution_count": 4,
   "metadata": {
    "pycharm": {
     "is_executing": false,
     "name": "#%%\n"
    }
   },
   "outputs": [],
   "source": [
    "# Functions to load data\n",
    "def load_pk(filename):\n",
    "    with open(filename, 'rb') as f:\n",
    "        return pickle.load(f, encoding='bytes')\n",
    "\n",
    "def load_X(filename):\n",
    "    X = load_pk(filename)\n",
    "    assert X.size(2) == X.size(3) == SIZE['raw']\n",
    "    return SCALE * (X[:, :1, :, :] + SHIFT)\n",
    "\n",
    "def load_y(filename):\n",
    "    y = load_pk(filename)\n",
    "    return y.type(torch.long)  # convert to integer"
   ]
  },
  {
   "cell_type": "code",
   "execution_count": 5,
   "metadata": {
    "pycharm": {
     "is_executing": false,
     "name": "#%%\n"
    }
   },
   "outputs": [],
   "source": [
    "# Functions to preprocess data\n",
    "def downsample(X):\n",
    "    f = SIZE['raw'] // SIZE['final']\n",
    "    for i in range(SIZE['final']):\n",
    "        for j in range(SIZE['final']):\n",
    "            X[:, :, i, j] = X[:, :, i * f:(i + 1) * f, j * f:(j + 1)*f].mean(-1).mean(-1)\n",
    "    return X[:, :, :SIZE['final'], :SIZE['final']]"
   ]
  },
  {
   "cell_type": "code",
   "execution_count": 6,
   "metadata": {
    "pycharm": {
     "is_executing": false,
     "name": "#%%\n"
    }
   },
   "outputs": [],
   "source": [
    "# Function to split data into training and validation sets\n",
    "def split_train_valid(X, y):\n",
    "    def split(X, y, f):\n",
    "        idx, k = torch.randperm(y.size(0)), round(y.size(0) * f)\n",
    "        return X[idx[:k]], y[idx[:k]], X[idx[k:]], y[idx[k:]]\n",
    "    f = TRAIN_VALID_RATIO / (1 + TRAIN_VALID_RATIO)\n",
    "    X_train_0, y_train_0, X_valid_0, y_valid_0 = split(X[y == 0], y[y == 0], f)\n",
    "    X_train_1, y_train_1, X_valid_1, y_valid_1 = split(X[y == 1], y[y == 1], f)\n",
    "    X_train, y_train = torch.cat((X_train_0, X_train_1)), torch.cat((y_train_0, y_train_1))\n",
    "    X_valid, y_valid = torch.cat((X_valid_0, X_valid_1)), torch.cat((y_valid_0, y_valid_1))\n",
    "    return X_train, y_train, X_valid, y_valid"
   ]
  },
  {
   "cell_type": "code",
   "execution_count": 7,
   "metadata": {
    "pycharm": {
     "is_executing": false,
     "name": "#%%\n"
    }
   },
   "outputs": [],
   "source": [
    "# Function to augment training data\n",
    "def augment(X_in, y_in, transform_fn):\n",
    "    def transform(im_):\n",
    "        while True:\n",
    "            try:\n",
    "                return transform_fn(im_)\n",
    "            except AttributeError:\n",
    "                verbose_print(f'Something went wrong', VERBOSE['augmenting'])\n",
    "                continue\n",
    "    X_out, y_out = torch.zeros(N_TRAIN, 1, SIZE['final'], SIZE['final']), torch.zeros(N_TRAIN)\n",
    "    f = POS_NEG_RATIO / (1 + POS_NEG_RATIO)\n",
    "    for i in range(N_TRAIN):\n",
    "        label = int(torch.rand(1, 1) > f)\n",
    "        X = X_in[y_in == label]\n",
    "        choice = int(torch.randint(0, X.size(0), (1, 1)))\n",
    "        im = torchvision.transforms.functional.to_pil_image(X[choice])\n",
    "        X_out[i], y_out[i] = transform(im), label\n",
    "    return X_out, y_out"
   ]
  },
  {
   "cell_type": "code",
   "execution_count": 8,
   "metadata": {
    "pycharm": {
     "is_executing": false,
     "name": "#%%\n"
    }
   },
   "outputs": [],
   "source": [
    "# Function to visualize transformed training data\n",
    "def display(X, h=4, w=5):\n",
    "    s = SIZE['final']\n",
    "    im = np.empty((1, h * s, w * s))\n",
    "    idx = np.random.choice(X.size(0), (h, w), replace=False)\n",
    "    for i in range(h):\n",
    "        for j in range(w):\n",
    "            im[:, s * i:s * (i + 1), s * j:s * (j + 1)] = np.array(X[idx[i, j]])\n",
    "    plt.imshow(im.transpose((1, 2, 0)).repeat(3, 2))\n",
    "    plt.title('Augmented training data sample')\n",
    "    plt.axis('off')\n",
    "    plt.show()"
   ]
  },
  {
   "cell_type": "markdown",
   "metadata": {
    "pycharm": {
     "is_executing": false,
     "name": "#%% md\n"
    }
   },
   "source": [
    "## 4. Load and preprocess data"
   ]
  },
  {
   "cell_type": "code",
   "execution_count": 9,
   "metadata": {
    "pycharm": {
     "is_executing": false,
     "name": "#%%\n"
    }
   },
   "outputs": [
    {
     "name": "stdout",
     "output_type": "stream",
     "text": [
      "Loading data...               DONE\n"
     ]
    }
   ],
   "source": [
    "# Load raw data\n",
    "verbose_print(f'{\"Loading data...\":30s}', VERBOSE['progress'], end='')\n",
    "X_train = load_X(FILENAMES['X_train'])\n",
    "y_train = load_y(FILENAMES['y_train'])\n",
    "X_test = load_X(FILENAMES['X_test'])\n",
    "verbose_print('DONE', VERBOSE['progress'])"
   ]
  },
  {
   "cell_type": "code",
   "execution_count": 10,
   "metadata": {
    "pycharm": {
     "is_executing": false,
     "name": "#%%\n"
    }
   },
   "outputs": [
    {
     "name": "stdout",
     "output_type": "stream",
     "text": [
      "Downsampling data...          DONE\n"
     ]
    }
   ],
   "source": [
    "# Downsample data\n",
    "verbose_print(f'{\"Downsampling data...\":30s}', VERBOSE['progress'], end='')\n",
    "X_train = downsample(X_train)\n",
    "X_test = downsample(X_test)\n",
    "verbose_print('DONE', VERBOSE['progress'])"
   ]
  },
  {
   "cell_type": "code",
   "execution_count": 11,
   "metadata": {
    "pycharm": {
     "is_executing": false,
     "name": "#%%\n"
    }
   },
   "outputs": [
    {
     "name": "stdout",
     "output_type": "stream",
     "text": [
      "Splitting data...             DONE\n"
     ]
    }
   ],
   "source": [
    "# Split training data into training and validation sets\n",
    "verbose_print(f'{\"Splitting data...\":30s}', VERBOSE['progress'], end='')\n",
    "X_train, y_train, X_valid, y_valid = split_train_valid(X_train, y_train)\n",
    "verbose_print('DONE', VERBOSE['progress'])"
   ]
  },
  {
   "cell_type": "code",
   "execution_count": 12,
   "metadata": {
    "pycharm": {
     "is_executing": false,
     "name": "#%%\n"
    }
   },
   "outputs": [
    {
     "name": "stdout",
     "output_type": "stream",
     "text": [
      "Augmenting data...            DONE\n"
     ]
    }
   ],
   "source": [
    "# Augment data\n",
    "verbose_print(f'{\"Augmenting data...\":30s}', VERBOSE['progress'], end='')\n",
    "X_train, y_train = augment(X_train, y_train, TRANSFORMATIONS)\n",
    "verbose_print('DONE', VERBOSE['progress'])"
   ]
  },
  {
   "cell_type": "code",
   "execution_count": 13,
   "metadata": {
    "pycharm": {
     "is_executing": false,
     "name": "#%%\n"
    }
   },
   "outputs": [
    {
     "data": {
      "image/png": "[encoded data removed]",
      "text/plain": [
       "<Figure size 432x288 with 1 Axes>"
      ]
     },
     "metadata": {
      "needs_background": "light"
     },
     "output_type": "display_data"
    }
   ],
   "source": [
    "display(X_train)"
   ]
  },
  {
   "cell_type": "code",
   "execution_count": 14,
   "metadata": {
    "pycharm": {
     "is_executing": false,
     "name": "#%%\n"
    }
   },
   "outputs": [],
   "source": [
    "# Convert data to numpy arrays and reshape\n",
    "X_train = np.array(X_train).reshape((-1, SIZE['final'], SIZE['final'], 1))\n",
    "y_train = np.array(y_train)\n",
    "X_valid = np.array(X_valid).reshape((-1, SIZE['final'], SIZE['final'], 1))\n",
    "y_valid = np.array(y_valid)\n",
    "X_test = np.array(X_test).reshape((-1, SIZE['final'], SIZE['final'], 1))"
   ]
  },
  {
   "cell_type": "markdown",
   "metadata": {
    "pycharm": {
     "name": "#%% md\n"
    }
   },
   "source": [
    "## 5. Build CNN\n",
    "See https://towardsdatascience.com/building-a-convolutional-neural-network-cnn-in-keras-329fbbadc5f5"
   ]
  },
  {
   "cell_type": "code",
   "execution_count": 15,
   "metadata": {
    "pycharm": {
     "is_executing": false,
     "name": "#%%\n"
    }
   },
   "outputs": [],
   "source": [
    "model = Sequential()\n",
    "model.add(Conv2D(256, kernel_size=3, activation='relu', input_shape=X_train[0].shape))\n",
    "model.add(MaxPooling2D(2))\n",
    "model.add(Conv2D(32, kernel_size=3, activation='relu'))\n",
    "model.add(MaxPooling2D(2))\n",
    "model.add(Conv2D(32, kernel_size=3, activation='relu'))\n",
    "model.add(MaxPooling2D(2))\n",
    "model.add(Flatten())\n",
    "model.add(Dense(16, activation='relu'))\n",
    "model.add(Dense(1, activation='sigmoid'))\n",
    "model.compile(optimizer='adam', loss='binary_crossentropy', metrics=['accuracy'])"
   ]
  },
  {
   "cell_type": "markdown",
   "metadata": {},
   "source": [
    "## 6. Fit the CNN"
   ]
  },
  {
   "cell_type": "code",
   "execution_count": 16,
   "metadata": {},
   "outputs": [
    {
     "name": "stdout",
     "output_type": "stream",
     "text": [
      "Train on 1024 samples, validate on 23 samples\n",
      "Epoch 1/8\n",
      "1024/1024 [==============================] - 299s 292ms/step - loss: 0.6927 - accuracy: 0.5049 - val_loss: 0.6785 - val_accuracy: 0.5217\n",
      "Epoch 2/8\n",
      "1024/1024 [==============================] - 345s 337ms/step - loss: 0.6868 - accuracy: 0.5664 - val_loss: 0.5895 - val_accuracy: 0.6957\n",
      "Epoch 3/8\n",
      "1024/1024 [==============================] - 309s 302ms/step - loss: 0.6298 - accuracy: 0.6523 - val_loss: 0.5468 - val_accuracy: 0.6522\n",
      "Epoch 4/8\n",
      "1024/1024 [==============================] - 339s 331ms/step - loss: 0.5178 - accuracy: 0.7412 - val_loss: 0.6065 - val_accuracy: 0.5652\n",
      "Epoch 5/8\n",
      "1024/1024 [==============================] - 321s 314ms/step - loss: 0.4358 - accuracy: 0.7783 - val_loss: 0.4713 - val_accuracy: 0.7826\n",
      "Epoch 6/8\n",
      "1024/1024 [==============================] - 302s 295ms/step - loss: 0.3506 - accuracy: 0.8330 - val_loss: 0.6120 - val_accuracy: 0.6087\n",
      "Epoch 7/8\n",
      "1024/1024 [==============================] - 294s 287ms/step - loss: 0.2738 - accuracy: 0.8789 - val_loss: 0.4408 - val_accuracy: 0.9130\n",
      "Epoch 8/8\n",
      "1024/1024 [==============================] - 308s 301ms/step - loss: 0.1689 - accuracy: 0.9238 - val_loss: 0.6538 - val_accuracy: 0.8696\n",
      "23/23 [==============================] - 1s 63ms/step\n"
     ]
    },
    {
     "ename": "TypeError",
     "evalue": "unsupported format string passed to list.__format__",
     "output_type": "error",
     "traceback": [
      "\u001b[0;31m---------------------------------------------------------------------------\u001b[0m",
      "\u001b[0;31mTypeError\u001b[0m                                 Traceback (most recent call last)",
      "\u001b[0;32m<ipython-input-16-8bce667facf0>\u001b[0m in \u001b[0;36m<module>\u001b[0;34m\u001b[0m\n\u001b[1;32m      1\u001b[0m \u001b[0mmodel\u001b[0m\u001b[0;34m.\u001b[0m\u001b[0mfit\u001b[0m\u001b[0;34m(\u001b[0m\u001b[0mX_train\u001b[0m\u001b[0;34m,\u001b[0m \u001b[0my_train\u001b[0m\u001b[0;34m,\u001b[0m \u001b[0mbatch_size\u001b[0m\u001b[0;34m=\u001b[0m\u001b[0;36m16\u001b[0m\u001b[0;34m,\u001b[0m \u001b[0mepochs\u001b[0m\u001b[0;34m=\u001b[0m\u001b[0;36m8\u001b[0m\u001b[0;34m,\u001b[0m \u001b[0mvalidation_data\u001b[0m\u001b[0;34m=\u001b[0m\u001b[0;34m(\u001b[0m\u001b[0mX_valid\u001b[0m\u001b[0;34m,\u001b[0m \u001b[0my_valid\u001b[0m\u001b[0;34m)\u001b[0m\u001b[0;34m)\u001b[0m\u001b[0;34m\u001b[0m\u001b[0;34m\u001b[0m\u001b[0m\n\u001b[1;32m      2\u001b[0m \u001b[0mscore\u001b[0m \u001b[0;34m=\u001b[0m \u001b[0mmodel\u001b[0m\u001b[0;34m.\u001b[0m\u001b[0mevaluate\u001b[0m\u001b[0;34m(\u001b[0m\u001b[0mX_valid\u001b[0m\u001b[0;34m,\u001b[0m \u001b[0my_valid\u001b[0m\u001b[0;34m)\u001b[0m\u001b[0;34m\u001b[0m\u001b[0;34m\u001b[0m\u001b[0m\n\u001b[0;32m----> 3\u001b[0;31m \u001b[0mprint\u001b[0m\u001b[0;34m(\u001b[0m\u001b[0;34mf'Final score: {score:.2f}'\u001b[0m\u001b[0;34m)\u001b[0m\u001b[0;34m\u001b[0m\u001b[0;34m\u001b[0m\u001b[0m\n\u001b[0m",
      "\u001b[0;31mTypeError\u001b[0m: unsupported format string passed to list.__format__"
     ]
    }
   ],
   "source": [
    "model.fit(X_train, y_train, batch_size=16, epochs=8, validation_data=(X_valid, y_valid))\n",
    "score = model.evaluate(X_valid, y_valid)\n",
    "print(f'Final score: {score:.2f}')"
   ]
  }
 ],
 "metadata": {
  "kernelspec": {
   "display_name": "Python 3",
   "language": "python",
   "name": "python3"
  },
  "language_info": {
   "codemirror_mode": {
    "name": "ipython",
    "version": 3
   },
   "file_extension": ".py",
   "mimetype": "text/x-python",
   "name": "python",
   "nbconvert_exporter": "python",
   "pygments_lexer": "ipython3",
   "version": "3.7.6"
  },
  "pycharm": {
   "stem_cell": {
    "cell_type": "raw",
    "metadata": {
     "collapsed": false
    },
    "source": []
   }
  }
 },
 "nbformat": 4,
 "nbformat_minor": 1
}
